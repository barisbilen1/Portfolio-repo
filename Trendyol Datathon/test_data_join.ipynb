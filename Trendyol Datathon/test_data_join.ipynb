{
 "cells": [
  {
   "cell_type": "code",
   "execution_count": 1,
   "id": "c06b868e-e79b-457c-945b-23c63269bcfc",
   "metadata": {},
   "outputs": [],
   "source": [
    "                        ##-- Test data join --##\n",
    "# Importing libraries\n",
    "\n",
    "import pandas as pd\n",
    "import getpass\n",
    "import math\n",
    "import numpy as np\n",
    "#from tqdm import trange\n",
    "import gc\n",
    "#import matplotlib.pyplot as plt\n",
    "#import seaborn as sns\n",
    "#from sklearn.ensemble import IsolationForest\n",
    "from sklearn.preprocessing import StandardScaler\n",
    "from sklearn.model_selection import train_test_split\n",
    "from sklearn.ensemble import RandomForestClassifier\n",
    "from sklearn.metrics import confusion_matrix, accuracy_score\n",
    "\n",
    "if getpass.getuser() == \"asus\":\n",
    "    file_path = \"C:/Users/asus/Desktop/trendyol_data_v2/\"\n",
    "    \n",
    "if getpass.getuser() == \"your computers name\":\n",
    "    file_path = \"C:/Users/..desiredlocation...\""
   ]
  },
  {
   "cell_type": "code",
   "execution_count": 2,
   "id": "93ea8989-0b58-4099-98a1-425280bf0244",
   "metadata": {
    "tags": []
   },
   "outputs": [
    {
     "name": "stderr",
     "output_type": "stream",
     "text": [
      "C:\\Users\\asus\\AppData\\Local\\R-MINI~1\\lib\\site-packages\\numpy\\lib\\arraysetops.py:583: FutureWarning: elementwise comparison failed; returning scalar instead, but in the future will perform elementwise comparison\n",
      "  mask |= (ar1 == a)\n"
     ]
    }
   ],
   "source": [
    "test_data = pd.read_csv(file_path + 'test_data_final.csv')\n",
    "data = pd.read_csv(file_path + 'main_data_final.csv',index_col=0)"
   ]
  },
  {
   "cell_type": "code",
   "execution_count": 7,
   "id": "bb854713-12d4-4918-a09e-1cf116c6727a",
   "metadata": {},
   "outputs": [
    {
     "data": {
      "text/plain": [
       "22"
      ]
     },
     "execution_count": 7,
     "metadata": {},
     "output_type": "execute_result"
    }
   ],
   "source": [
    "gc.collect()"
   ]
  },
  {
   "cell_type": "code",
   "execution_count": 8,
   "id": "a3bac460-53e7-4247-936b-c2a1571e939b",
   "metadata": {},
   "outputs": [],
   "source": [
    "user_data = data[['user_id','is_elite_user','Bay','Bayan','is_wallet_trx','is_saved_card_trx']]"
   ]
  },
  {
   "cell_type": "code",
   "execution_count": 9,
   "id": "79ead818-4660-4469-a1b9-eebfb6a780cc",
   "metadata": {},
   "outputs": [],
   "source": [
    "user_data.to_csv(file_path+'user_data.csv',index=False)"
   ]
  },
  {
   "cell_type": "code",
   "execution_count": 11,
   "id": "6f33f243-3e2d-4033-95ce-c11d6bfe318d",
   "metadata": {},
   "outputs": [],
   "source": [
    "product_data = data.drop(['user_id','is_elite_user','Bay','Bayan','is_wallet_trx','is_saved_card_trx',\n",
    "            'supplier_id','order_parent_id','product_variant_id','is_different_sizes'],axis=1)"
   ]
  },
  {
   "cell_type": "code",
   "execution_count": 12,
   "id": "2dbb7ff0-0510-4c47-8608-ab04096054fa",
   "metadata": {},
   "outputs": [],
   "source": [
    "product_data.to_csv(file_path+'product_data.csv',index=False)"
   ]
  },
  {
   "cell_type": "code",
   "execution_count": 14,
   "id": "088b0220-4abd-4cbc-9655-dda63c90d129",
   "metadata": {},
   "outputs": [
    {
     "data": {
      "text/plain": [
       "22"
      ]
     },
     "execution_count": 14,
     "metadata": {},
     "output_type": "execute_result"
    }
   ],
   "source": [
    "gc.collect()"
   ]
  },
  {
   "cell_type": "markdown",
   "id": "0d2b22dd-0900-445a-b08f-2c298e5d2bba",
   "metadata": {},
   "source": [
    "Continue from test_data_join_v2."
   ]
  },
  {
   "cell_type": "code",
   "execution_count": null,
   "id": "d14e0830-8712-4f7e-a3c7-3a5cdd7b03dd",
   "metadata": {},
   "outputs": [],
   "source": []
  }
 ],
 "metadata": {
  "kernelspec": {
   "display_name": "Python 3",
   "language": "python",
   "name": "python3"
  },
  "language_info": {
   "codemirror_mode": {
    "name": "ipython",
    "version": 3
   },
   "file_extension": ".py",
   "mimetype": "text/x-python",
   "name": "python",
   "nbconvert_exporter": "python",
   "pygments_lexer": "ipython3",
   "version": "3.8.3"
  }
 },
 "nbformat": 4,
 "nbformat_minor": 5
}
