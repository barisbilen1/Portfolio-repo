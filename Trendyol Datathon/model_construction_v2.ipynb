{
 "cells": [
  {
   "cell_type": "code",
   "execution_count": 1,
   "id": "9579586b-af5c-4cbe-85cd-b564f99a14d6",
   "metadata": {},
   "outputs": [],
   "source": [
    "                        ##-- MODEL CONSTRUCTION - 2--##\n",
    "# Importing libraries\n",
    "\n",
    "import pandas as pd\n",
    "import getpass\n",
    "import math\n",
    "import numpy as np\n",
    "#from tqdm import trange\n",
    "import gc\n",
    "#import matplotlib.pyplot as plt\n",
    "#import seaborn as sns\n",
    "#from sklearn.ensemble import IsolationForest\n",
    "\n",
    "if getpass.getuser() == \"asus\":\n",
    "    file_path = \"C:/Users/asus/Desktop/trendyol_data_v2/\"\n",
    "    \n",
    "if getpass.getuser() == \"your computers name\":\n",
    "    file_path = \"C:/Users/..desiredlocation...\""
   ]
  },
  {
   "cell_type": "code",
   "execution_count": null,
   "id": "8da1c2b7-ad5a-4ed4-a129-df1ca5882593",
   "metadata": {},
   "outputs": [],
   "source": [
    "data = pd.read_csv(file_path + 'main_data_final.csv',index_col=0)"
   ]
  },
  {
   "cell_type": "markdown",
   "id": "0c211dab-d529-426b-963c-06d5ea4baeee",
   "metadata": {},
   "source": [
    "Firstly, I'd like to check the format of the test data before training the model. \\\n",
    "We want to make sure that test data is in suitable format."
   ]
  },
  {
   "cell_type": "code",
   "execution_count": 2,
   "id": "5113fea6-0aa8-4849-994b-9107c385c6fa",
   "metadata": {},
   "outputs": [],
   "source": [
    "test_data = pd.read_csv(file_path + 'test_data_v2.csv')"
   ]
  },
  {
   "cell_type": "code",
   "execution_count": 6,
   "id": "a0c33190-ab4b-4290-a94c-0838c145d37f",
   "metadata": {},
   "outputs": [
    {
     "data": {
      "text/html": [
       "<div>\n",
       "<style scoped>\n",
       "    .dataframe tbody tr th:only-of-type {\n",
       "        vertical-align: middle;\n",
       "    }\n",
       "\n",
       "    .dataframe tbody tr th {\n",
       "        vertical-align: top;\n",
       "    }\n",
       "\n",
       "    .dataframe thead th {\n",
       "        text-align: right;\n",
       "    }\n",
       "</style>\n",
       "<table border=\"1\" class=\"dataframe\">\n",
       "  <thead>\n",
       "    <tr style=\"text-align: right;\">\n",
       "      <th></th>\n",
       "      <th>id</th>\n",
       "      <th>expected</th>\n",
       "    </tr>\n",
       "  </thead>\n",
       "  <tbody>\n",
       "    <tr>\n",
       "      <th>0</th>\n",
       "      <td>18115|87073974|726348863</td>\n",
       "      <td>will_be_predicted</td>\n",
       "    </tr>\n",
       "    <tr>\n",
       "      <th>1</th>\n",
       "      <td>27588|118753298|723169934</td>\n",
       "      <td>will_be_predicted</td>\n",
       "    </tr>\n",
       "    <tr>\n",
       "      <th>2</th>\n",
       "      <td>29165|35699988|724122443</td>\n",
       "      <td>will_be_predicted</td>\n",
       "    </tr>\n",
       "  </tbody>\n",
       "</table>\n",
       "</div>"
      ],
      "text/plain": [
       "                          id           expected\n",
       "0   18115|87073974|726348863  will_be_predicted\n",
       "1  27588|118753298|723169934  will_be_predicted\n",
       "2   29165|35699988|724122443  will_be_predicted"
      ]
     },
     "execution_count": 6,
     "metadata": {},
     "output_type": "execute_result"
    }
   ],
   "source": [
    "test_data.head(3)"
   ]
  },
  {
   "cell_type": "code",
   "execution_count": 7,
   "id": "3f23e32f-223c-4318-a272-f15379fce753",
   "metadata": {},
   "outputs": [],
   "source": [
    "test_data = test_data.rename({'expected':'is_returned'},axis=1)"
   ]
  },
  {
   "cell_type": "code",
   "execution_count": 23,
   "id": "63e445cc-1d77-495a-a8de-ce5d6c8e6471",
   "metadata": {},
   "outputs": [],
   "source": [
    "test_data['user_id'] = 'xx'\n",
    "test_data['product_content_id'] = 'xx'\n",
    "test_data['order_parent_id'] = 'xx'"
   ]
  },
  {
   "cell_type": "code",
   "execution_count": 49,
   "id": "d378bdd1-8ea4-4f11-b0fc-543b828d19b8",
   "metadata": {},
   "outputs": [],
   "source": [
    "user_id_list = []\n",
    "product_id_list = []\n",
    "order_parent_id_list = []"
   ]
  },
  {
   "cell_type": "code",
   "execution_count": 50,
   "id": "141fa2ea-da5b-42e4-8eea-58074797bd09",
   "metadata": {},
   "outputs": [
    {
     "data": {
      "text/plain": [
       "list"
      ]
     },
     "execution_count": 50,
     "metadata": {},
     "output_type": "execute_result"
    }
   ],
   "source": [
    "type(product_id_list)"
   ]
  },
  {
   "cell_type": "code",
   "execution_count": 51,
   "id": "a60ca9fa-6d9c-4328-bff7-9f53ede50e47",
   "metadata": {},
   "outputs": [],
   "source": [
    "for i in range(len(test_data)):\n",
    "    string1 = str(test_data.iloc[i].id)\n",
    "    string_list = string1.split('|')\n",
    "    user_id_list.append(string_list[0])\n",
    "    product_id_list.append(string_list[1])\n",
    "    order_parent_id_list.append(string_list[2])"
   ]
  },
  {
   "cell_type": "code",
   "execution_count": 53,
   "id": "27f97676-3c81-45c5-bc18-bc75e933d6d7",
   "metadata": {},
   "outputs": [
    {
     "data": {
      "text/html": [
       "<div>\n",
       "<style scoped>\n",
       "    .dataframe tbody tr th:only-of-type {\n",
       "        vertical-align: middle;\n",
       "    }\n",
       "\n",
       "    .dataframe tbody tr th {\n",
       "        vertical-align: top;\n",
       "    }\n",
       "\n",
       "    .dataframe thead th {\n",
       "        text-align: right;\n",
       "    }\n",
       "</style>\n",
       "<table border=\"1\" class=\"dataframe\">\n",
       "  <thead>\n",
       "    <tr style=\"text-align: right;\">\n",
       "      <th></th>\n",
       "      <th>id</th>\n",
       "      <th>is_returned</th>\n",
       "      <th>final</th>\n",
       "      <th>user_id</th>\n",
       "      <th>product_content_id</th>\n",
       "      <th>order_parent_id</th>\n",
       "    </tr>\n",
       "  </thead>\n",
       "  <tbody>\n",
       "    <tr>\n",
       "      <th>0</th>\n",
       "      <td>18115|87073974|726348863</td>\n",
       "      <td>will_be_predicted</td>\n",
       "      <td>726348863</td>\n",
       "      <td>xx</td>\n",
       "      <td>xx</td>\n",
       "      <td>xx</td>\n",
       "    </tr>\n",
       "    <tr>\n",
       "      <th>1</th>\n",
       "      <td>27588|118753298|723169934</td>\n",
       "      <td>will_be_predicted</td>\n",
       "      <td>723169934</td>\n",
       "      <td>xx</td>\n",
       "      <td>xx</td>\n",
       "      <td>xx</td>\n",
       "    </tr>\n",
       "    <tr>\n",
       "      <th>2</th>\n",
       "      <td>29165|35699988|724122443</td>\n",
       "      <td>will_be_predicted</td>\n",
       "      <td>724122443</td>\n",
       "      <td>xx</td>\n",
       "      <td>xx</td>\n",
       "      <td>xx</td>\n",
       "    </tr>\n",
       "    <tr>\n",
       "      <th>3</th>\n",
       "      <td>29969|5893187|722342150</td>\n",
       "      <td>will_be_predicted</td>\n",
       "      <td>722342150</td>\n",
       "      <td>xx</td>\n",
       "      <td>xx</td>\n",
       "      <td>xx</td>\n",
       "    </tr>\n",
       "    <tr>\n",
       "      <th>4</th>\n",
       "      <td>35107|93897418|723421057</td>\n",
       "      <td>will_be_predicted</td>\n",
       "      <td>723421057</td>\n",
       "      <td>xx</td>\n",
       "      <td>xx</td>\n",
       "      <td>xx</td>\n",
       "    </tr>\n",
       "  </tbody>\n",
       "</table>\n",
       "</div>"
      ],
      "text/plain": [
       "                          id        is_returned      final user_id  \\\n",
       "0   18115|87073974|726348863  will_be_predicted  726348863      xx   \n",
       "1  27588|118753298|723169934  will_be_predicted  723169934      xx   \n",
       "2   29165|35699988|724122443  will_be_predicted  724122443      xx   \n",
       "3    29969|5893187|722342150  will_be_predicted  722342150      xx   \n",
       "4   35107|93897418|723421057  will_be_predicted  723421057      xx   \n",
       "\n",
       "  product_content_id order_parent_id  \n",
       "0                 xx              xx  \n",
       "1                 xx              xx  \n",
       "2                 xx              xx  \n",
       "3                 xx              xx  \n",
       "4                 xx              xx  "
      ]
     },
     "execution_count": 53,
     "metadata": {},
     "output_type": "execute_result"
    }
   ],
   "source": [
    "test_data.head()"
   ]
  },
  {
   "cell_type": "code",
   "execution_count": 54,
   "id": "64757b67-45c0-40ac-b824-bc039eac148b",
   "metadata": {},
   "outputs": [
    {
     "data": {
      "text/html": [
       "<div>\n",
       "<style scoped>\n",
       "    .dataframe tbody tr th:only-of-type {\n",
       "        vertical-align: middle;\n",
       "    }\n",
       "\n",
       "    .dataframe tbody tr th {\n",
       "        vertical-align: top;\n",
       "    }\n",
       "\n",
       "    .dataframe thead th {\n",
       "        text-align: right;\n",
       "    }\n",
       "</style>\n",
       "<table border=\"1\" class=\"dataframe\">\n",
       "  <thead>\n",
       "    <tr style=\"text-align: right;\">\n",
       "      <th></th>\n",
       "      <th>id</th>\n",
       "      <th>is_returned</th>\n",
       "      <th>final</th>\n",
       "      <th>user_id</th>\n",
       "      <th>product_content_id</th>\n",
       "      <th>order_parent_id</th>\n",
       "    </tr>\n",
       "  </thead>\n",
       "  <tbody>\n",
       "    <tr>\n",
       "      <th>7466</th>\n",
       "      <td>71083899|100019570|728638514</td>\n",
       "      <td>will_be_predicted</td>\n",
       "      <td>728638514</td>\n",
       "      <td>xx</td>\n",
       "      <td>xx</td>\n",
       "      <td>xx</td>\n",
       "    </tr>\n",
       "    <tr>\n",
       "      <th>7467</th>\n",
       "      <td>71106534|35624085|725372928</td>\n",
       "      <td>will_be_predicted</td>\n",
       "      <td>725372928</td>\n",
       "      <td>xx</td>\n",
       "      <td>xx</td>\n",
       "      <td>xx</td>\n",
       "    </tr>\n",
       "    <tr>\n",
       "      <th>7468</th>\n",
       "      <td>71115350|94438742|725291348</td>\n",
       "      <td>will_be_predicted</td>\n",
       "      <td>725291348</td>\n",
       "      <td>xx</td>\n",
       "      <td>xx</td>\n",
       "      <td>xx</td>\n",
       "    </tr>\n",
       "    <tr>\n",
       "      <th>7469</th>\n",
       "      <td>71115350|100017676|725291348</td>\n",
       "      <td>will_be_predicted</td>\n",
       "      <td>725291348</td>\n",
       "      <td>xx</td>\n",
       "      <td>xx</td>\n",
       "      <td>xx</td>\n",
       "    </tr>\n",
       "    <tr>\n",
       "      <th>7470</th>\n",
       "      <td>71160557|87073974|726377172</td>\n",
       "      <td>will_be_predicted</td>\n",
       "      <td>726377172</td>\n",
       "      <td>xx</td>\n",
       "      <td>xx</td>\n",
       "      <td>xx</td>\n",
       "    </tr>\n",
       "  </tbody>\n",
       "</table>\n",
       "</div>"
      ],
      "text/plain": [
       "                                id        is_returned      final user_id  \\\n",
       "7466  71083899|100019570|728638514  will_be_predicted  728638514      xx   \n",
       "7467   71106534|35624085|725372928  will_be_predicted  725372928      xx   \n",
       "7468   71115350|94438742|725291348  will_be_predicted  725291348      xx   \n",
       "7469  71115350|100017676|725291348  will_be_predicted  725291348      xx   \n",
       "7470   71160557|87073974|726377172  will_be_predicted  726377172      xx   \n",
       "\n",
       "     product_content_id order_parent_id  \n",
       "7466                 xx              xx  \n",
       "7467                 xx              xx  \n",
       "7468                 xx              xx  \n",
       "7469                 xx              xx  \n",
       "7470                 xx              xx  "
      ]
     },
     "execution_count": 54,
     "metadata": {},
     "output_type": "execute_result"
    }
   ],
   "source": [
    "test_data.tail()"
   ]
  },
  {
   "cell_type": "code",
   "execution_count": 59,
   "id": "fcdd9abc-caf0-48bd-86c1-ec13ace686d0",
   "metadata": {},
   "outputs": [
    {
     "data": {
      "text/plain": [
       "'118753298'"
      ]
     },
     "execution_count": 59,
     "metadata": {},
     "output_type": "execute_result"
    }
   ],
   "source": [
    "product_id_list[1]"
   ]
  },
  {
   "cell_type": "code",
   "execution_count": 60,
   "id": "32c45af3-2159-47f9-93c7-28d4a4543bbe",
   "metadata": {},
   "outputs": [],
   "source": [
    "test_data['user'] = user_id_list"
   ]
  },
  {
   "cell_type": "code",
   "execution_count": 62,
   "id": "80e192a1-cfa1-4a39-b856-7b571cdead74",
   "metadata": {},
   "outputs": [],
   "source": [
    "test_data['product'] = product_id_list\n",
    "test_data['order'] = order_parent_id_list"
   ]
  },
  {
   "cell_type": "code",
   "execution_count": 63,
   "id": "902d1395-c0a0-430b-b447-4675dc16d558",
   "metadata": {},
   "outputs": [
    {
     "data": {
      "text/html": [
       "<div>\n",
       "<style scoped>\n",
       "    .dataframe tbody tr th:only-of-type {\n",
       "        vertical-align: middle;\n",
       "    }\n",
       "\n",
       "    .dataframe tbody tr th {\n",
       "        vertical-align: top;\n",
       "    }\n",
       "\n",
       "    .dataframe thead th {\n",
       "        text-align: right;\n",
       "    }\n",
       "</style>\n",
       "<table border=\"1\" class=\"dataframe\">\n",
       "  <thead>\n",
       "    <tr style=\"text-align: right;\">\n",
       "      <th></th>\n",
       "      <th>id</th>\n",
       "      <th>is_returned</th>\n",
       "      <th>final</th>\n",
       "      <th>user_id</th>\n",
       "      <th>product_content_id</th>\n",
       "      <th>order_parent_id</th>\n",
       "      <th>user</th>\n",
       "      <th>product</th>\n",
       "      <th>order</th>\n",
       "    </tr>\n",
       "  </thead>\n",
       "  <tbody>\n",
       "    <tr>\n",
       "      <th>0</th>\n",
       "      <td>18115|87073974|726348863</td>\n",
       "      <td>will_be_predicted</td>\n",
       "      <td>726348863</td>\n",
       "      <td>xx</td>\n",
       "      <td>xx</td>\n",
       "      <td>xx</td>\n",
       "      <td>18115</td>\n",
       "      <td>87073974</td>\n",
       "      <td>726348863</td>\n",
       "    </tr>\n",
       "    <tr>\n",
       "      <th>1</th>\n",
       "      <td>27588|118753298|723169934</td>\n",
       "      <td>will_be_predicted</td>\n",
       "      <td>723169934</td>\n",
       "      <td>xx</td>\n",
       "      <td>xx</td>\n",
       "      <td>xx</td>\n",
       "      <td>27588</td>\n",
       "      <td>118753298</td>\n",
       "      <td>723169934</td>\n",
       "    </tr>\n",
       "    <tr>\n",
       "      <th>2</th>\n",
       "      <td>29165|35699988|724122443</td>\n",
       "      <td>will_be_predicted</td>\n",
       "      <td>724122443</td>\n",
       "      <td>xx</td>\n",
       "      <td>xx</td>\n",
       "      <td>xx</td>\n",
       "      <td>29165</td>\n",
       "      <td>35699988</td>\n",
       "      <td>724122443</td>\n",
       "    </tr>\n",
       "    <tr>\n",
       "      <th>3</th>\n",
       "      <td>29969|5893187|722342150</td>\n",
       "      <td>will_be_predicted</td>\n",
       "      <td>722342150</td>\n",
       "      <td>xx</td>\n",
       "      <td>xx</td>\n",
       "      <td>xx</td>\n",
       "      <td>29969</td>\n",
       "      <td>5893187</td>\n",
       "      <td>722342150</td>\n",
       "    </tr>\n",
       "    <tr>\n",
       "      <th>4</th>\n",
       "      <td>35107|93897418|723421057</td>\n",
       "      <td>will_be_predicted</td>\n",
       "      <td>723421057</td>\n",
       "      <td>xx</td>\n",
       "      <td>xx</td>\n",
       "      <td>xx</td>\n",
       "      <td>35107</td>\n",
       "      <td>93897418</td>\n",
       "      <td>723421057</td>\n",
       "    </tr>\n",
       "  </tbody>\n",
       "</table>\n",
       "</div>"
      ],
      "text/plain": [
       "                          id        is_returned      final user_id  \\\n",
       "0   18115|87073974|726348863  will_be_predicted  726348863      xx   \n",
       "1  27588|118753298|723169934  will_be_predicted  723169934      xx   \n",
       "2   29165|35699988|724122443  will_be_predicted  724122443      xx   \n",
       "3    29969|5893187|722342150  will_be_predicted  722342150      xx   \n",
       "4   35107|93897418|723421057  will_be_predicted  723421057      xx   \n",
       "\n",
       "  product_content_id order_parent_id   user    product      order  \n",
       "0                 xx              xx  18115   87073974  726348863  \n",
       "1                 xx              xx  27588  118753298  723169934  \n",
       "2                 xx              xx  29165   35699988  724122443  \n",
       "3                 xx              xx  29969    5893187  722342150  \n",
       "4                 xx              xx  35107   93897418  723421057  "
      ]
     },
     "execution_count": 63,
     "metadata": {},
     "output_type": "execute_result"
    }
   ],
   "source": [
    "test_data.head()"
   ]
  },
  {
   "cell_type": "code",
   "execution_count": 64,
   "id": "40b2580b-f0d3-4883-93b1-4a02c9de7e8b",
   "metadata": {},
   "outputs": [],
   "source": [
    "test_data = test_data.drop(['product_content_id','order_parent_id','user_id'],axis=1)\n",
    "test_data = test_data.rename({'user':'user_id','product':'product_content_id','order':'order_parent_id'},axis=1)"
   ]
  },
  {
   "cell_type": "code",
   "execution_count": 66,
   "id": "ce8c6d9a-3e88-4668-96e2-71a81b92e5f4",
   "metadata": {},
   "outputs": [],
   "source": [
    "test_data = test_data.drop(['id','final','user_id'],axis=1)"
   ]
  },
  {
   "cell_type": "code",
   "execution_count": 71,
   "id": "0131334f-3954-415a-a7a3-f6528597842e",
   "metadata": {},
   "outputs": [
    {
     "data": {
      "text/html": [
       "<div>\n",
       "<style scoped>\n",
       "    .dataframe tbody tr th:only-of-type {\n",
       "        vertical-align: middle;\n",
       "    }\n",
       "\n",
       "    .dataframe tbody tr th {\n",
       "        vertical-align: top;\n",
       "    }\n",
       "\n",
       "    .dataframe thead th {\n",
       "        text-align: right;\n",
       "    }\n",
       "</style>\n",
       "<table border=\"1\" class=\"dataframe\">\n",
       "  <thead>\n",
       "    <tr style=\"text-align: right;\">\n",
       "      <th></th>\n",
       "      <th>user_id</th>\n",
       "      <th>product_content_id</th>\n",
       "      <th>order_parent_id</th>\n",
       "      <th>is_returned</th>\n",
       "    </tr>\n",
       "  </thead>\n",
       "  <tbody>\n",
       "    <tr>\n",
       "      <th>0</th>\n",
       "      <td>18115</td>\n",
       "      <td>87073974</td>\n",
       "      <td>726348863</td>\n",
       "      <td>will_be_predicted</td>\n",
       "    </tr>\n",
       "    <tr>\n",
       "      <th>1</th>\n",
       "      <td>27588</td>\n",
       "      <td>118753298</td>\n",
       "      <td>723169934</td>\n",
       "      <td>will_be_predicted</td>\n",
       "    </tr>\n",
       "    <tr>\n",
       "      <th>2</th>\n",
       "      <td>29165</td>\n",
       "      <td>35699988</td>\n",
       "      <td>724122443</td>\n",
       "      <td>will_be_predicted</td>\n",
       "    </tr>\n",
       "    <tr>\n",
       "      <th>3</th>\n",
       "      <td>29969</td>\n",
       "      <td>5893187</td>\n",
       "      <td>722342150</td>\n",
       "      <td>will_be_predicted</td>\n",
       "    </tr>\n",
       "    <tr>\n",
       "      <th>4</th>\n",
       "      <td>35107</td>\n",
       "      <td>93897418</td>\n",
       "      <td>723421057</td>\n",
       "      <td>will_be_predicted</td>\n",
       "    </tr>\n",
       "  </tbody>\n",
       "</table>\n",
       "</div>"
      ],
      "text/plain": [
       "  user_id product_content_id order_parent_id        is_returned\n",
       "0   18115           87073974       726348863  will_be_predicted\n",
       "1   27588          118753298       723169934  will_be_predicted\n",
       "2   29165           35699988       724122443  will_be_predicted\n",
       "3   29969            5893187       722342150  will_be_predicted\n",
       "4   35107           93897418       723421057  will_be_predicted"
      ]
     },
     "execution_count": 71,
     "metadata": {},
     "output_type": "execute_result"
    }
   ],
   "source": [
    "test_data.head()"
   ]
  },
  {
   "cell_type": "code",
   "execution_count": 70,
   "id": "66f3b899-24cd-4158-8804-6e2573382105",
   "metadata": {},
   "outputs": [],
   "source": [
    "test_data = test_data[['user_id','product_content_id','order_parent_id','is_returned']]"
   ]
  },
  {
   "cell_type": "code",
   "execution_count": 72,
   "id": "aa331f8e-99bb-4142-88eb-15632c3c899f",
   "metadata": {},
   "outputs": [
    {
     "data": {
      "text/html": [
       "<div>\n",
       "<style scoped>\n",
       "    .dataframe tbody tr th:only-of-type {\n",
       "        vertical-align: middle;\n",
       "    }\n",
       "\n",
       "    .dataframe tbody tr th {\n",
       "        vertical-align: top;\n",
       "    }\n",
       "\n",
       "    .dataframe thead th {\n",
       "        text-align: right;\n",
       "    }\n",
       "</style>\n",
       "<table border=\"1\" class=\"dataframe\">\n",
       "  <thead>\n",
       "    <tr style=\"text-align: right;\">\n",
       "      <th></th>\n",
       "      <th>user_id</th>\n",
       "      <th>product_content_id</th>\n",
       "      <th>order_parent_id</th>\n",
       "      <th>is_returned</th>\n",
       "    </tr>\n",
       "  </thead>\n",
       "  <tbody>\n",
       "    <tr>\n",
       "      <th>0</th>\n",
       "      <td>18115</td>\n",
       "      <td>87073974</td>\n",
       "      <td>726348863</td>\n",
       "      <td>will_be_predicted</td>\n",
       "    </tr>\n",
       "    <tr>\n",
       "      <th>1</th>\n",
       "      <td>27588</td>\n",
       "      <td>118753298</td>\n",
       "      <td>723169934</td>\n",
       "      <td>will_be_predicted</td>\n",
       "    </tr>\n",
       "    <tr>\n",
       "      <th>2</th>\n",
       "      <td>29165</td>\n",
       "      <td>35699988</td>\n",
       "      <td>724122443</td>\n",
       "      <td>will_be_predicted</td>\n",
       "    </tr>\n",
       "    <tr>\n",
       "      <th>3</th>\n",
       "      <td>29969</td>\n",
       "      <td>5893187</td>\n",
       "      <td>722342150</td>\n",
       "      <td>will_be_predicted</td>\n",
       "    </tr>\n",
       "    <tr>\n",
       "      <th>4</th>\n",
       "      <td>35107</td>\n",
       "      <td>93897418</td>\n",
       "      <td>723421057</td>\n",
       "      <td>will_be_predicted</td>\n",
       "    </tr>\n",
       "  </tbody>\n",
       "</table>\n",
       "</div>"
      ],
      "text/plain": [
       "  user_id product_content_id order_parent_id        is_returned\n",
       "0   18115           87073974       726348863  will_be_predicted\n",
       "1   27588          118753298       723169934  will_be_predicted\n",
       "2   29165           35699988       724122443  will_be_predicted\n",
       "3   29969            5893187       722342150  will_be_predicted\n",
       "4   35107           93897418       723421057  will_be_predicted"
      ]
     },
     "execution_count": 72,
     "metadata": {},
     "output_type": "execute_result"
    }
   ],
   "source": [
    "test_data.head() #all good."
   ]
  },
  {
   "cell_type": "code",
   "execution_count": 73,
   "id": "6b20c72a-864b-41c5-a33a-efa1579f4cac",
   "metadata": {},
   "outputs": [],
   "source": [
    "test_data.to_csv(file_path+'test_data_final.csv',index=False)"
   ]
  },
  {
   "cell_type": "markdown",
   "id": "dbdc7d24-dcec-402d-b59e-0b192d8459b2",
   "metadata": {},
   "source": [
    "Please continue from 'model_construction_v3.ipynb'"
   ]
  },
  {
   "cell_type": "code",
   "execution_count": null,
   "id": "faa5b267-ad35-4775-8685-c5bde042b679",
   "metadata": {},
   "outputs": [],
   "source": []
  }
 ],
 "metadata": {
  "kernelspec": {
   "display_name": "Python 3",
   "language": "python",
   "name": "python3"
  },
  "language_info": {
   "codemirror_mode": {
    "name": "ipython",
    "version": 3
   },
   "file_extension": ".py",
   "mimetype": "text/x-python",
   "name": "python",
   "nbconvert_exporter": "python",
   "pygments_lexer": "ipython3",
   "version": "3.8.3"
  }
 },
 "nbformat": 4,
 "nbformat_minor": 5
}
