{
 "cells": [
  {
   "cell_type": "code",
   "execution_count": 1,
   "metadata": {
    "_cell_guid": "b1076dfc-b9ad-4769-8c92-a6c4dae69d19",
    "_uuid": "8f2839f25d086af736a60e9eeb907d3b93b6e0e5",
    "id": "jp4RpXZcYp8r"
   },
   "outputs": [],
   "source": [
    "import numpy as np \n",
    "import pandas as pd \n",
    "\n",
    "from sklearn.metrics import confusion_matrix, accuracy_score\n",
    "from sklearn import metrics\n"
   ]
  },
  {
   "cell_type": "code",
   "execution_count": 2,
   "metadata": {
    "id": "mFoIAuGgYp8y"
   },
   "outputs": [],
   "source": [
    "train = pd.read_csv(\"train.csv\")\n",
    "test = pd.read_csv(\"test.csv\")\n",
    "monthly_expenditure = pd.read_csv(\"monthly_expenditures.csv\")                "
   ]
  },
  {
   "cell_type": "markdown",
   "metadata": {
    "id": "tXnU5A1OYp8z"
   },
   "source": [
    "# Train Test Info"
   ]
  },
  {
   "cell_type": "code",
   "execution_count": 4,
   "metadata": {
    "colab": {
     "base_uri": "https://localhost:8080/",
     "height": 206
    },
    "id": "nCqKax-9Yp80",
    "outputId": "255c168f-5ff1-4651-a0da-de82bbc56dde"
   },
   "outputs": [
    {
     "data": {
      "text/html": [
       "<div>\n",
       "<style scoped>\n",
       "    .dataframe tbody tr th:only-of-type {\n",
       "        vertical-align: middle;\n",
       "    }\n",
       "\n",
       "    .dataframe tbody tr th {\n",
       "        vertical-align: top;\n",
       "    }\n",
       "\n",
       "    .dataframe thead th {\n",
       "        text-align: right;\n",
       "    }\n",
       "</style>\n",
       "<table border=\"1\" class=\"dataframe\">\n",
       "  <thead>\n",
       "    <tr style=\"text-align: right;\">\n",
       "      <th></th>\n",
       "      <th>musteri</th>\n",
       "      <th>yas</th>\n",
       "      <th>kidem_suresi</th>\n",
       "      <th>egitim</th>\n",
       "      <th>is_durumu</th>\n",
       "      <th>meslek_grubu</th>\n",
       "      <th>tarih</th>\n",
       "      <th>target</th>\n",
       "    </tr>\n",
       "  </thead>\n",
       "  <tbody>\n",
       "    <tr>\n",
       "      <th>0</th>\n",
       "      <td>23b2476c8a</td>\n",
       "      <td>44.0</td>\n",
       "      <td>46.0</td>\n",
       "      <td>5f8ca0f83b</td>\n",
       "      <td>915be3a7a4</td>\n",
       "      <td>44af6626d6</td>\n",
       "      <td>20190601</td>\n",
       "      <td>0</td>\n",
       "    </tr>\n",
       "    <tr>\n",
       "      <th>1</th>\n",
       "      <td>5a7e3a7122</td>\n",
       "      <td>39.0</td>\n",
       "      <td>194.0</td>\n",
       "      <td>01a4f2c96c</td>\n",
       "      <td>915be3a7a4</td>\n",
       "      <td>44af6626d6</td>\n",
       "      <td>20190601</td>\n",
       "      <td>0</td>\n",
       "    </tr>\n",
       "    <tr>\n",
       "      <th>2</th>\n",
       "      <td>2ec95c7499</td>\n",
       "      <td>38.0</td>\n",
       "      <td>182.0</td>\n",
       "      <td>7e6640bfe0</td>\n",
       "      <td>d36d84f51a</td>\n",
       "      <td>44af6626d6</td>\n",
       "      <td>20190601</td>\n",
       "      <td>0</td>\n",
       "    </tr>\n",
       "    <tr>\n",
       "      <th>3</th>\n",
       "      <td>54399dac33</td>\n",
       "      <td>34.0</td>\n",
       "      <td>101.0</td>\n",
       "      <td>5f8ca0f83b</td>\n",
       "      <td>991c4998fb</td>\n",
       "      <td>44af6626d6</td>\n",
       "      <td>20190601</td>\n",
       "      <td>0</td>\n",
       "    </tr>\n",
       "    <tr>\n",
       "      <th>4</th>\n",
       "      <td>97a74b2e58</td>\n",
       "      <td>41.0</td>\n",
       "      <td>125.0</td>\n",
       "      <td>7bb291e291</td>\n",
       "      <td>242927d0f5</td>\n",
       "      <td>91ed9c1e18</td>\n",
       "      <td>20190601</td>\n",
       "      <td>0</td>\n",
       "    </tr>\n",
       "  </tbody>\n",
       "</table>\n",
       "</div>"
      ],
      "text/plain": [
       "      musteri   yas  kidem_suresi  ... meslek_grubu     tarih target\n",
       "0  23b2476c8a  44.0          46.0  ...   44af6626d6  20190601      0\n",
       "1  5a7e3a7122  39.0         194.0  ...   44af6626d6  20190601      0\n",
       "2  2ec95c7499  38.0         182.0  ...   44af6626d6  20190601      0\n",
       "3  54399dac33  34.0         101.0  ...   44af6626d6  20190601      0\n",
       "4  97a74b2e58  41.0         125.0  ...   91ed9c1e18  20190601      0\n",
       "\n",
       "[5 rows x 8 columns]"
      ]
     },
     "execution_count": 4,
     "metadata": {
      "tags": []
     },
     "output_type": "execute_result"
    }
   ],
   "source": [
    "train.head()"
   ]
  },
  {
   "cell_type": "code",
   "execution_count": null,
   "metadata": {
    "id": "pFwgnoODYp82"
   },
   "outputs": [],
   "source": [
    "test.head()"
   ]
  },
  {
   "cell_type": "markdown",
   "metadata": {
    "id": "C5c-nZ6bYp82"
   },
   "source": [
    "# Monthly Info"
   ]
  },
  {
   "cell_type": "code",
   "execution_count": null,
   "metadata": {
    "colab": {
     "base_uri": "https://localhost:8080/",
     "height": 363
    },
    "id": "Cv5wLA_fYp84",
    "outputId": "efc5a051-9748-4d6c-f7d2-3b7726b21169"
   },
   "outputs": [
    {
     "data": {
      "text/html": [
       "<div>\n",
       "<style scoped>\n",
       "    .dataframe tbody tr th:only-of-type {\n",
       "        vertical-align: middle;\n",
       "    }\n",
       "\n",
       "    .dataframe tbody tr th {\n",
       "        vertical-align: top;\n",
       "    }\n",
       "\n",
       "    .dataframe thead th {\n",
       "        text-align: right;\n",
       "    }\n",
       "</style>\n",
       "<table border=\"1\" class=\"dataframe\">\n",
       "  <thead>\n",
       "    <tr style=\"text-align: right;\">\n",
       "      <th></th>\n",
       "      <th>musteri</th>\n",
       "      <th>sektor</th>\n",
       "      <th>islem_adedi</th>\n",
       "      <th>aylik_toplam_tutar</th>\n",
       "      <th>tarih</th>\n",
       "    </tr>\n",
       "  </thead>\n",
       "  <tbody>\n",
       "    <tr>\n",
       "      <th>0</th>\n",
       "      <td>f6b1f7d2d6</td>\n",
       "      <td>DIJITAL_URUNLR</td>\n",
       "      <td>1.0</td>\n",
       "      <td>10.0</td>\n",
       "      <td>20190101.0</td>\n",
       "    </tr>\n",
       "    <tr>\n",
       "      <th>1</th>\n",
       "      <td>f6b1f7d2d6</td>\n",
       "      <td>EGL_SPOR_HOBI</td>\n",
       "      <td>2.0</td>\n",
       "      <td>520.0</td>\n",
       "      <td>20190101.0</td>\n",
       "    </tr>\n",
       "    <tr>\n",
       "      <th>2</th>\n",
       "      <td>f6b1f7d2d6</td>\n",
       "      <td>GIYIM_AKSESUAR</td>\n",
       "      <td>4.0</td>\n",
       "      <td>1420.0</td>\n",
       "      <td>20190101.0</td>\n",
       "    </tr>\n",
       "    <tr>\n",
       "      <th>3</th>\n",
       "      <td>f6b1f7d2d6</td>\n",
       "      <td>KUYUMCU</td>\n",
       "      <td>1.0</td>\n",
       "      <td>550.0</td>\n",
       "      <td>20190101.0</td>\n",
       "    </tr>\n",
       "    <tr>\n",
       "      <th>4</th>\n",
       "      <td>f6b1f7d2d6</td>\n",
       "      <td>RESTORAN_CATER</td>\n",
       "      <td>1.0</td>\n",
       "      <td>90.0</td>\n",
       "      <td>20190101.0</td>\n",
       "    </tr>\n",
       "    <tr>\n",
       "      <th>5</th>\n",
       "      <td>f6b1f7d2d6</td>\n",
       "      <td>TURIZM_KONAKLM</td>\n",
       "      <td>3.0</td>\n",
       "      <td>1230.0</td>\n",
       "      <td>20190101.0</td>\n",
       "    </tr>\n",
       "    <tr>\n",
       "      <th>6</th>\n",
       "      <td>f6b1f7d2d6</td>\n",
       "      <td>TASIMACILIK</td>\n",
       "      <td>14.0</td>\n",
       "      <td>14330.0</td>\n",
       "      <td>20190101.0</td>\n",
       "    </tr>\n",
       "    <tr>\n",
       "      <th>7</th>\n",
       "      <td>f6b1f7d2d6</td>\n",
       "      <td>BENZIN_YAKIT</td>\n",
       "      <td>1.0</td>\n",
       "      <td>150.0</td>\n",
       "      <td>20190101.0</td>\n",
       "    </tr>\n",
       "    <tr>\n",
       "      <th>8</th>\n",
       "      <td>f6b1f7d2d6</td>\n",
       "      <td>DIJITAL_URUNLR</td>\n",
       "      <td>1.0</td>\n",
       "      <td>10.0</td>\n",
       "      <td>20190201.0</td>\n",
       "    </tr>\n",
       "    <tr>\n",
       "      <th>9</th>\n",
       "      <td>f6b1f7d2d6</td>\n",
       "      <td>BENZIN_YAKIT</td>\n",
       "      <td>1.0</td>\n",
       "      <td>150.0</td>\n",
       "      <td>20190201.0</td>\n",
       "    </tr>\n",
       "  </tbody>\n",
       "</table>\n",
       "</div>"
      ],
      "text/plain": [
       "      musteri          sektor  islem_adedi  aylik_toplam_tutar       tarih\n",
       "0  f6b1f7d2d6  DIJITAL_URUNLR          1.0                10.0  20190101.0\n",
       "1  f6b1f7d2d6   EGL_SPOR_HOBI          2.0               520.0  20190101.0\n",
       "2  f6b1f7d2d6  GIYIM_AKSESUAR          4.0              1420.0  20190101.0\n",
       "3  f6b1f7d2d6         KUYUMCU          1.0               550.0  20190101.0\n",
       "4  f6b1f7d2d6  RESTORAN_CATER          1.0                90.0  20190101.0\n",
       "5  f6b1f7d2d6  TURIZM_KONAKLM          3.0              1230.0  20190101.0\n",
       "6  f6b1f7d2d6     TASIMACILIK         14.0             14330.0  20190101.0\n",
       "7  f6b1f7d2d6    BENZIN_YAKIT          1.0               150.0  20190101.0\n",
       "8  f6b1f7d2d6  DIJITAL_URUNLR          1.0                10.0  20190201.0\n",
       "9  f6b1f7d2d6    BENZIN_YAKIT          1.0               150.0  20190201.0"
      ]
     },
     "execution_count": 8,
     "metadata": {
      "tags": []
     },
     "output_type": "execute_result"
    }
   ],
   "source": [
    "monthly_expenditure.head(10)"
   ]
  },
  {
   "cell_type": "markdown",
   "metadata": {
    "id": "_CMxRJy9Yp85"
   },
   "source": [
    "* İlk aklıma gelen şeyler kendime notlar\n",
    "* Train içinde olup monthly tablosunda olmayan var mı?\n",
    "* Test içinde olup monthly tablosunda olmayan var mı\n",
    "*  Monthly, bir müşterinin her ay için 7 farklı kategoride işlem adedini ve aylık toplam tutarını belirtiyor."
   ]
  },
  {
   "cell_type": "code",
   "execution_count": null,
   "metadata": {
    "colab": {
     "base_uri": "https://localhost:8080/"
    },
    "id": "ikz7TKZXYp85",
    "outputId": "166f7d41-9752-4536-f589-20f1d648ed58"
   },
   "outputs": [
    {
     "name": "stdout",
     "output_type": "stream",
     "text": [
      "<class 'pandas.core.frame.DataFrame'>\n",
      "RangeIndex: 197961 entries, 0 to 197960\n",
      "Data columns (total 5 columns):\n",
      " #   Column              Non-Null Count   Dtype  \n",
      "---  ------              --------------   -----  \n",
      " 0   musteri             197961 non-null  object \n",
      " 1   sektor              197960 non-null  object \n",
      " 2   islem_adedi         197960 non-null  float64\n",
      " 3   aylik_toplam_tutar  197960 non-null  float64\n",
      " 4   tarih               197960 non-null  float64\n",
      "dtypes: float64(3), object(2)\n",
      "memory usage: 7.6+ MB\n"
     ]
    }
   ],
   "source": [
    "monthly_expenditure.info()"
   ]
  },
  {
   "cell_type": "code",
   "execution_count": null,
   "metadata": {
    "colab": {
     "base_uri": "https://localhost:8080/"
    },
    "id": "DmWvwY3SYp86",
    "outputId": "fb2387b0-bc62-4607-8768-b496b7bc244a"
   },
   "outputs": [
    {
     "data": {
      "text/plain": [
       "RESTORAN_CATER    53922\n",
       "GIYIM_AKSESUAR    36536\n",
       "BENZIN_YAKIT      26362\n",
       "ELKT_ESYA_BILG    18027\n",
       "TASIMACILIK       14196\n",
       "TURIZM_KONAKLM    11447\n",
       "EGL_SPOR_HOBI     10723\n",
       "DIJITAL_URUNLR     8686\n",
       "SAGLIK_HIZMTLR     5836\n",
       "ICKILI_YERLER      4252\n",
       "BAHCE_CICEKCLK     3533\n",
       "KLP_DERNK_SOSY     2365\n",
       "KUYUMCU            2075\n",
       "Name: sektor, dtype: int64"
      ]
     },
     "execution_count": 10,
     "metadata": {
      "tags": []
     },
     "output_type": "execute_result"
    }
   ],
   "source": [
    "monthly_expenditure[\"sektor\"].value_counts()"
   ]
  },
  {
   "cell_type": "code",
   "execution_count": 3,
   "metadata": {
    "colab": {
     "base_uri": "https://localhost:8080/",
     "height": 237
    },
    "id": "P_z7mmdeYp87",
    "outputId": "9ccc9320-b1d7-4a02-de30-50753226a1cd"
   },
   "outputs": [
    {
     "data": {
      "text/html": [
       "<div>\n",
       "<style scoped>\n",
       "    .dataframe tbody tr th:only-of-type {\n",
       "        vertical-align: middle;\n",
       "    }\n",
       "\n",
       "    .dataframe tbody tr th {\n",
       "        vertical-align: top;\n",
       "    }\n",
       "\n",
       "    .dataframe thead th {\n",
       "        text-align: right;\n",
       "    }\n",
       "</style>\n",
       "<table border=\"1\" class=\"dataframe\">\n",
       "  <thead>\n",
       "    <tr style=\"text-align: right;\">\n",
       "      <th></th>\n",
       "      <th>6_ort_islem</th>\n",
       "      <th>6_ortalama_tutar</th>\n",
       "    </tr>\n",
       "    <tr>\n",
       "      <th>musteri</th>\n",
       "      <th></th>\n",
       "      <th></th>\n",
       "    </tr>\n",
       "  </thead>\n",
       "  <tbody>\n",
       "    <tr>\n",
       "      <th>0001791170</th>\n",
       "      <td>2.214286</td>\n",
       "      <td>273.571429</td>\n",
       "    </tr>\n",
       "    <tr>\n",
       "      <th>00088d74bd</th>\n",
       "      <td>4.344828</td>\n",
       "      <td>5322.068966</td>\n",
       "    </tr>\n",
       "    <tr>\n",
       "      <th>000d648614</th>\n",
       "      <td>1.555556</td>\n",
       "      <td>133.333333</td>\n",
       "    </tr>\n",
       "    <tr>\n",
       "      <th>0014450f7c</th>\n",
       "      <td>3.285714</td>\n",
       "      <td>930.000000</td>\n",
       "    </tr>\n",
       "    <tr>\n",
       "      <th>0015501e39</th>\n",
       "      <td>4.050000</td>\n",
       "      <td>607.500000</td>\n",
       "    </tr>\n",
       "  </tbody>\n",
       "</table>\n",
       "</div>"
      ],
      "text/plain": [
       "            6_ort_islem  6_ortalama_tutar\n",
       "musteri                                  \n",
       "0001791170     2.214286        273.571429\n",
       "00088d74bd     4.344828       5322.068966\n",
       "000d648614     1.555556        133.333333\n",
       "0014450f7c     3.285714        930.000000\n",
       "0015501e39     4.050000        607.500000"
      ]
     },
     "execution_count": 3,
     "metadata": {
      "tags": []
     },
     "output_type": "execute_result"
    }
   ],
   "source": [
    "six_month = monthly_expenditure.groupby([\"musteri\"]).mean()\n",
    "six_month.columns = [\"6_ort_islem\",  \"6_ortalama_tutar\",\"delete\"]\n",
    "six_month = six_month.drop(\"delete\",axis=1)\n",
    "six_month.head(5)"
   ]
  },
  {
   "cell_type": "code",
   "execution_count": 4,
   "metadata": {
    "colab": {
     "base_uri": "https://localhost:8080/",
     "height": 237
    },
    "id": "ZMBSKHE5Yp88",
    "outputId": "271581dc-78e8-4660-a7e6-30538fcc6526"
   },
   "outputs": [
    {
     "data": {
      "text/html": [
       "<div>\n",
       "<style scoped>\n",
       "    .dataframe tbody tr th:only-of-type {\n",
       "        vertical-align: middle;\n",
       "    }\n",
       "\n",
       "    .dataframe tbody tr th {\n",
       "        vertical-align: top;\n",
       "    }\n",
       "\n",
       "    .dataframe thead th {\n",
       "        text-align: right;\n",
       "    }\n",
       "</style>\n",
       "<table border=\"1\" class=\"dataframe\">\n",
       "  <thead>\n",
       "    <tr style=\"text-align: right;\">\n",
       "      <th></th>\n",
       "      <th>3_ort_islem</th>\n",
       "      <th>3_ortalama_tutar</th>\n",
       "    </tr>\n",
       "    <tr>\n",
       "      <th>musteri</th>\n",
       "      <th></th>\n",
       "      <th></th>\n",
       "    </tr>\n",
       "  </thead>\n",
       "  <tbody>\n",
       "    <tr>\n",
       "      <th>0001791170</th>\n",
       "      <td>1.5</td>\n",
       "      <td>90.000000</td>\n",
       "    </tr>\n",
       "    <tr>\n",
       "      <th>00088d74bd</th>\n",
       "      <td>4.2</td>\n",
       "      <td>4882.000000</td>\n",
       "    </tr>\n",
       "    <tr>\n",
       "      <th>000d648614</th>\n",
       "      <td>3.0</td>\n",
       "      <td>370.000000</td>\n",
       "    </tr>\n",
       "    <tr>\n",
       "      <th>0014450f7c</th>\n",
       "      <td>4.5</td>\n",
       "      <td>1553.333333</td>\n",
       "    </tr>\n",
       "    <tr>\n",
       "      <th>0015501e39</th>\n",
       "      <td>3.6</td>\n",
       "      <td>577.000000</td>\n",
       "    </tr>\n",
       "  </tbody>\n",
       "</table>\n",
       "</div>"
      ],
      "text/plain": [
       "            3_ort_islem  3_ortalama_tutar\n",
       "musteri                                  \n",
       "0001791170          1.5         90.000000\n",
       "00088d74bd          4.2       4882.000000\n",
       "000d648614          3.0        370.000000\n",
       "0014450f7c          4.5       1553.333333\n",
       "0015501e39          3.6        577.000000"
      ]
     },
     "execution_count": 4,
     "metadata": {
      "tags": []
     },
     "output_type": "execute_result"
    }
   ],
   "source": [
    "three_month = monthly_expenditure[monthly_expenditure[\"tarih\"] > 20190302]\n",
    "three_month = three_month.groupby([\"musteri\"]).mean()\n",
    "three_month.columns = [\"3_ort_islem\",  \"3_ortalama_tutar\",\"delete\"]\n",
    "three_month = three_month.drop(\"delete\",axis=1)\n",
    "three_month.head(5)                                                     # barış:aşağıdaki tablonun ilk satırındaki müşteri (0001791170) month_exp.csv de yok. nedenini bilmiyorum."
   ]
  },
  {
   "cell_type": "code",
   "execution_count": 5,
   "metadata": {
    "colab": {
     "base_uri": "https://localhost:8080/",
     "height": 1000
    },
    "id": "_h_-mOL2Yp88",
    "outputId": "58a8b3d8-a201-4d78-9878-c825911c6851"
   },
   "outputs": [
    {
     "data": {
      "text/html": [
       "<div>\n",
       "<style scoped>\n",
       "    .dataframe tbody tr th:only-of-type {\n",
       "        vertical-align: middle;\n",
       "    }\n",
       "\n",
       "    .dataframe tbody tr th {\n",
       "        vertical-align: top;\n",
       "    }\n",
       "\n",
       "    .dataframe thead th {\n",
       "        text-align: right;\n",
       "    }\n",
       "</style>\n",
       "<table border=\"1\" class=\"dataframe\">\n",
       "  <thead>\n",
       "    <tr style=\"text-align: right;\">\n",
       "      <th></th>\n",
       "      <th></th>\n",
       "      <th>_6</th>\n",
       "      <th>_6</th>\n",
       "    </tr>\n",
       "    <tr>\n",
       "      <th>musteri</th>\n",
       "      <th>sektor</th>\n",
       "      <th></th>\n",
       "      <th></th>\n",
       "    </tr>\n",
       "  </thead>\n",
       "  <tbody>\n",
       "    <tr>\n",
       "      <th rowspan=\"4\" valign=\"top\">0001791170</th>\n",
       "      <th>BENZIN_YAKIT</th>\n",
       "      <td>3.000000</td>\n",
       "      <td>420.000000</td>\n",
       "    </tr>\n",
       "    <tr>\n",
       "      <th>GIYIM_AKSESUAR</th>\n",
       "      <td>1.250000</td>\n",
       "      <td>42.500000</td>\n",
       "    </tr>\n",
       "    <tr>\n",
       "      <th>ICKILI_YERLER</th>\n",
       "      <td>1.000000</td>\n",
       "      <td>180.000000</td>\n",
       "    </tr>\n",
       "    <tr>\n",
       "      <th>RESTORAN_CATER</th>\n",
       "      <td>2.600000</td>\n",
       "      <td>360.000000</td>\n",
       "    </tr>\n",
       "    <tr>\n",
       "      <th rowspan=\"9\" valign=\"top\">00088d74bd</th>\n",
       "      <th>BAHCE_CICEKCLK</th>\n",
       "      <td>1.000000</td>\n",
       "      <td>140.000000</td>\n",
       "    </tr>\n",
       "    <tr>\n",
       "      <th>BENZIN_YAKIT</th>\n",
       "      <td>2.000000</td>\n",
       "      <td>980.000000</td>\n",
       "    </tr>\n",
       "    <tr>\n",
       "      <th>ELKT_ESYA_BILG</th>\n",
       "      <td>2.500000</td>\n",
       "      <td>1910.000000</td>\n",
       "    </tr>\n",
       "    <tr>\n",
       "      <th>GIYIM_AKSESUAR</th>\n",
       "      <td>4.500000</td>\n",
       "      <td>10026.666667</td>\n",
       "    </tr>\n",
       "    <tr>\n",
       "      <th>KLP_DERNK_SOSY</th>\n",
       "      <td>1.000000</td>\n",
       "      <td>350.000000</td>\n",
       "    </tr>\n",
       "    <tr>\n",
       "      <th>RESTORAN_CATER</th>\n",
       "      <td>9.833333</td>\n",
       "      <td>7616.666667</td>\n",
       "    </tr>\n",
       "    <tr>\n",
       "      <th>SAGLIK_HIZMTLR</th>\n",
       "      <td>3.500000</td>\n",
       "      <td>6775.000000</td>\n",
       "    </tr>\n",
       "    <tr>\n",
       "      <th>TASIMACILIK</th>\n",
       "      <td>1.000000</td>\n",
       "      <td>50.000000</td>\n",
       "    </tr>\n",
       "    <tr>\n",
       "      <th>TURIZM_KONAKLM</th>\n",
       "      <td>1.800000</td>\n",
       "      <td>498.000000</td>\n",
       "    </tr>\n",
       "    <tr>\n",
       "      <th rowspan=\"5\" valign=\"top\">000d648614</th>\n",
       "      <th>BENZIN_YAKIT</th>\n",
       "      <td>1.000000</td>\n",
       "      <td>60.000000</td>\n",
       "    </tr>\n",
       "    <tr>\n",
       "      <th>DIJITAL_URUNLR</th>\n",
       "      <td>1.000000</td>\n",
       "      <td>120.000000</td>\n",
       "    </tr>\n",
       "    <tr>\n",
       "      <th>ELKT_ESYA_BILG</th>\n",
       "      <td>1.000000</td>\n",
       "      <td>45.000000</td>\n",
       "    </tr>\n",
       "    <tr>\n",
       "      <th>RESTORAN_CATER</th>\n",
       "      <td>2.250000</td>\n",
       "      <td>212.500000</td>\n",
       "    </tr>\n",
       "    <tr>\n",
       "      <th>TURIZM_KONAKLM</th>\n",
       "      <td>1.000000</td>\n",
       "      <td>80.000000</td>\n",
       "    </tr>\n",
       "    <tr>\n",
       "      <th rowspan=\"5\" valign=\"top\">0014450f7c</th>\n",
       "      <th>GIYIM_AKSESUAR</th>\n",
       "      <td>1.600000</td>\n",
       "      <td>266.000000</td>\n",
       "    </tr>\n",
       "    <tr>\n",
       "      <th>RESTORAN_CATER</th>\n",
       "      <td>5.500000</td>\n",
       "      <td>1806.666667</td>\n",
       "    </tr>\n",
       "    <tr>\n",
       "      <th>SAGLIK_HIZMTLR</th>\n",
       "      <td>3.000000</td>\n",
       "      <td>810.000000</td>\n",
       "    </tr>\n",
       "    <tr>\n",
       "      <th>TASIMACILIK</th>\n",
       "      <td>1.000000</td>\n",
       "      <td>20.000000</td>\n",
       "    </tr>\n",
       "    <tr>\n",
       "      <th>TURIZM_KONAKLM</th>\n",
       "      <td>1.000000</td>\n",
       "      <td>20.000000</td>\n",
       "    </tr>\n",
       "    <tr>\n",
       "      <th rowspan=\"9\" valign=\"top\">0015501e39</th>\n",
       "      <th>BAHCE_CICEKCLK</th>\n",
       "      <td>1.000000</td>\n",
       "      <td>50.000000</td>\n",
       "    </tr>\n",
       "    <tr>\n",
       "      <th>BENZIN_YAKIT</th>\n",
       "      <td>1.000000</td>\n",
       "      <td>50.000000</td>\n",
       "    </tr>\n",
       "    <tr>\n",
       "      <th>EGL_SPOR_HOBI</th>\n",
       "      <td>1.500000</td>\n",
       "      <td>25.000000</td>\n",
       "    </tr>\n",
       "    <tr>\n",
       "      <th>GIYIM_AKSESUAR</th>\n",
       "      <td>1.000000</td>\n",
       "      <td>20.000000</td>\n",
       "    </tr>\n",
       "    <tr>\n",
       "      <th>ICKILI_YERLER</th>\n",
       "      <td>1.000000</td>\n",
       "      <td>30.000000</td>\n",
       "    </tr>\n",
       "    <tr>\n",
       "      <th>KLP_DERNK_SOSY</th>\n",
       "      <td>1.000000</td>\n",
       "      <td>10.000000</td>\n",
       "    </tr>\n",
       "    <tr>\n",
       "      <th>RESTORAN_CATER</th>\n",
       "      <td>10.333333</td>\n",
       "      <td>1850.000000</td>\n",
       "    </tr>\n",
       "    <tr>\n",
       "      <th>TASIMACILIK</th>\n",
       "      <td>1.800000</td>\n",
       "      <td>154.000000</td>\n",
       "    </tr>\n",
       "    <tr>\n",
       "      <th>TURIZM_KONAKLM</th>\n",
       "      <td>1.000000</td>\n",
       "      <td>40.000000</td>\n",
       "    </tr>\n",
       "    <tr>\n",
       "      <th rowspan=\"7\" valign=\"top\">0015f58946</th>\n",
       "      <th>BAHCE_CICEKCLK</th>\n",
       "      <td>1.000000</td>\n",
       "      <td>70.000000</td>\n",
       "    </tr>\n",
       "    <tr>\n",
       "      <th>BENZIN_YAKIT</th>\n",
       "      <td>2.800000</td>\n",
       "      <td>326.000000</td>\n",
       "    </tr>\n",
       "    <tr>\n",
       "      <th>ELKT_ESYA_BILG</th>\n",
       "      <td>2.000000</td>\n",
       "      <td>340.000000</td>\n",
       "    </tr>\n",
       "    <tr>\n",
       "      <th>GIYIM_AKSESUAR</th>\n",
       "      <td>1.500000</td>\n",
       "      <td>435.000000</td>\n",
       "    </tr>\n",
       "    <tr>\n",
       "      <th>RESTORAN_CATER</th>\n",
       "      <td>2.400000</td>\n",
       "      <td>508.000000</td>\n",
       "    </tr>\n",
       "    <tr>\n",
       "      <th>TASIMACILIK</th>\n",
       "      <td>1.000000</td>\n",
       "      <td>15.000000</td>\n",
       "    </tr>\n",
       "    <tr>\n",
       "      <th>TURIZM_KONAKLM</th>\n",
       "      <td>1.000000</td>\n",
       "      <td>286.666667</td>\n",
       "    </tr>\n",
       "    <tr>\n",
       "      <th rowspan=\"3\" valign=\"top\">001c64c583</th>\n",
       "      <th>BENZIN_YAKIT</th>\n",
       "      <td>2.666667</td>\n",
       "      <td>640.000000</td>\n",
       "    </tr>\n",
       "    <tr>\n",
       "      <th>GIYIM_AKSESUAR</th>\n",
       "      <td>2.000000</td>\n",
       "      <td>390.000000</td>\n",
       "    </tr>\n",
       "    <tr>\n",
       "      <th>RESTORAN_CATER</th>\n",
       "      <td>1.000000</td>\n",
       "      <td>70.000000</td>\n",
       "    </tr>\n",
       "    <tr>\n",
       "      <th rowspan=\"6\" valign=\"top\">0023c5e289</th>\n",
       "      <th>BENZIN_YAKIT</th>\n",
       "      <td>5.000000</td>\n",
       "      <td>1605.000000</td>\n",
       "    </tr>\n",
       "    <tr>\n",
       "      <th>ELKT_ESYA_BILG</th>\n",
       "      <td>1.333333</td>\n",
       "      <td>2120.000000</td>\n",
       "    </tr>\n",
       "    <tr>\n",
       "      <th>GIYIM_AKSESUAR</th>\n",
       "      <td>1.000000</td>\n",
       "      <td>125.000000</td>\n",
       "    </tr>\n",
       "    <tr>\n",
       "      <th>ICKILI_YERLER</th>\n",
       "      <td>1.000000</td>\n",
       "      <td>120.000000</td>\n",
       "    </tr>\n",
       "    <tr>\n",
       "      <th>RESTORAN_CATER</th>\n",
       "      <td>1.750000</td>\n",
       "      <td>185.000000</td>\n",
       "    </tr>\n",
       "    <tr>\n",
       "      <th>TURIZM_KONAKLM</th>\n",
       "      <td>1.000000</td>\n",
       "      <td>140.000000</td>\n",
       "    </tr>\n",
       "    <tr>\n",
       "      <th rowspan=\"2\" valign=\"top\">002e74bd21</th>\n",
       "      <th>EGL_SPOR_HOBI</th>\n",
       "      <td>1.000000</td>\n",
       "      <td>170.000000</td>\n",
       "    </tr>\n",
       "    <tr>\n",
       "      <th>ELKT_ESYA_BILG</th>\n",
       "      <td>3.000000</td>\n",
       "      <td>860.000000</td>\n",
       "    </tr>\n",
       "  </tbody>\n",
       "</table>\n",
       "</div>"
      ],
      "text/plain": [
       "                                  _6            _6\n",
       "musteri    sektor                                 \n",
       "0001791170 BENZIN_YAKIT     3.000000    420.000000\n",
       "           GIYIM_AKSESUAR   1.250000     42.500000\n",
       "           ICKILI_YERLER    1.000000    180.000000\n",
       "           RESTORAN_CATER   2.600000    360.000000\n",
       "00088d74bd BAHCE_CICEKCLK   1.000000    140.000000\n",
       "           BENZIN_YAKIT     2.000000    980.000000\n",
       "           ELKT_ESYA_BILG   2.500000   1910.000000\n",
       "           GIYIM_AKSESUAR   4.500000  10026.666667\n",
       "           KLP_DERNK_SOSY   1.000000    350.000000\n",
       "           RESTORAN_CATER   9.833333   7616.666667\n",
       "           SAGLIK_HIZMTLR   3.500000   6775.000000\n",
       "           TASIMACILIK      1.000000     50.000000\n",
       "           TURIZM_KONAKLM   1.800000    498.000000\n",
       "000d648614 BENZIN_YAKIT     1.000000     60.000000\n",
       "           DIJITAL_URUNLR   1.000000    120.000000\n",
       "           ELKT_ESYA_BILG   1.000000     45.000000\n",
       "           RESTORAN_CATER   2.250000    212.500000\n",
       "           TURIZM_KONAKLM   1.000000     80.000000\n",
       "0014450f7c GIYIM_AKSESUAR   1.600000    266.000000\n",
       "           RESTORAN_CATER   5.500000   1806.666667\n",
       "           SAGLIK_HIZMTLR   3.000000    810.000000\n",
       "           TASIMACILIK      1.000000     20.000000\n",
       "           TURIZM_KONAKLM   1.000000     20.000000\n",
       "0015501e39 BAHCE_CICEKCLK   1.000000     50.000000\n",
       "           BENZIN_YAKIT     1.000000     50.000000\n",
       "           EGL_SPOR_HOBI    1.500000     25.000000\n",
       "           GIYIM_AKSESUAR   1.000000     20.000000\n",
       "           ICKILI_YERLER    1.000000     30.000000\n",
       "           KLP_DERNK_SOSY   1.000000     10.000000\n",
       "           RESTORAN_CATER  10.333333   1850.000000\n",
       "           TASIMACILIK      1.800000    154.000000\n",
       "           TURIZM_KONAKLM   1.000000     40.000000\n",
       "0015f58946 BAHCE_CICEKCLK   1.000000     70.000000\n",
       "           BENZIN_YAKIT     2.800000    326.000000\n",
       "           ELKT_ESYA_BILG   2.000000    340.000000\n",
       "           GIYIM_AKSESUAR   1.500000    435.000000\n",
       "           RESTORAN_CATER   2.400000    508.000000\n",
       "           TASIMACILIK      1.000000     15.000000\n",
       "           TURIZM_KONAKLM   1.000000    286.666667\n",
       "001c64c583 BENZIN_YAKIT     2.666667    640.000000\n",
       "           GIYIM_AKSESUAR   2.000000    390.000000\n",
       "           RESTORAN_CATER   1.000000     70.000000\n",
       "0023c5e289 BENZIN_YAKIT     5.000000   1605.000000\n",
       "           ELKT_ESYA_BILG   1.333333   2120.000000\n",
       "           GIYIM_AKSESUAR   1.000000    125.000000\n",
       "           ICKILI_YERLER    1.000000    120.000000\n",
       "           RESTORAN_CATER   1.750000    185.000000\n",
       "           TURIZM_KONAKLM   1.000000    140.000000\n",
       "002e74bd21 EGL_SPOR_HOBI    1.000000    170.000000\n",
       "           ELKT_ESYA_BILG   3.000000    860.000000"
      ]
     },
     "execution_count": 5,
     "metadata": {
      "tags": []
     },
     "output_type": "execute_result"
    }
   ],
   "source": [
    "six_month_sektor = monthly_expenditure.groupby([\"musteri\",\"sektor\"]).mean()\n",
    "six_month_sektor.columns = [\"_6\",  \"_6\",\"delete\"]\n",
    "six_month_sektor = six_month_sektor.drop(\"delete\",axis=1) # barış:önemi yok ama şu delete-drop olayını anlamadım bi ara söylersen sevinirim:)\n",
    "six_month_sektor.head(50)"
   ]
  },
  {
   "cell_type": "code",
   "execution_count": 6,
   "metadata": {
    "id": "DtNqy8iLYp8-"
   },
   "outputs": [],
   "source": [
    "ana_kategoriler = list(monthly_expenditure[\"sektor\"].unique())\n",
    "altı_kategoriler = list(monthly_expenditure[\"sektor\"].unique())\n",
    "for i in range (len(ana_kategoriler)):\n",
    "    altı_kategoriler[i] = \"6_\"+altı_kategoriler[i]"
   ]
  },
  {
   "cell_type": "code",
   "execution_count": 7,
   "metadata": {
    "id": "CoMaEoA4Yp8-"
   },
   "outputs": [],
   "source": [
    "df_list = []\n",
    "\n",
    "temp = monthly_expenditure[monthly_expenditure[\"sektor\"] == ana_kategoriler[0]]\n",
    "temp = temp.groupby([\"musteri\"]).mean()\n",
    "temp.columns = [ana_kategoriler[0]+\"_islem_6\",  ana_kategoriler[0]+\"_tutar_6\",\"delete\"]\n",
    "dijital = temp.drop(\"delete\",axis=1)\n",
    "df_list.append(dijital)\n",
    "\n",
    "temp = monthly_expenditure[monthly_expenditure[\"sektor\"] == ana_kategoriler[1]]\n",
    "temp = temp.groupby([\"musteri\"]).mean()\n",
    "temp.columns = [ana_kategoriler[1]+\"_islem_6\",  ana_kategoriler[1]+\"_tutar_6\",\"delete\"]\n",
    "spor = temp.drop(\"delete\",axis=1)\n",
    "df_list.append(spor)\n",
    "\n",
    "temp = monthly_expenditure[monthly_expenditure[\"sektor\"] == ana_kategoriler[2]]\n",
    "temp = temp.groupby([\"musteri\"]).mean()\n",
    "temp.columns = [ana_kategoriler[2]+\"_islem_6\",  ana_kategoriler[2]+\"_tutar_6\",\"delete\"]\n",
    "giyim = temp.drop(\"delete\",axis=1)\n",
    "df_list.append(giyim)\n",
    "\n",
    "temp = monthly_expenditure[monthly_expenditure[\"sektor\"] == ana_kategoriler[3]]\n",
    "temp = temp.groupby([\"musteri\"]).mean()\n",
    "temp.columns = [ana_kategoriler[3]+\"_islem_6\",  ana_kategoriler[3]+\"_tutar_6\",\"delete\"]\n",
    "kuyumcu = temp.drop(\"delete\",axis=1)\n",
    "df_list.append(kuyumcu)\n",
    "\n",
    "temp = monthly_expenditure[monthly_expenditure[\"sektor\"] == ana_kategoriler[4]]\n",
    "temp = temp.groupby([\"musteri\"]).mean()\n",
    "temp.columns = [ana_kategoriler[4]+\"_islem_6\",  ana_kategoriler[4]+\"_tutar_6\",\"delete\"]\n",
    "restoran = temp.drop(\"delete\",axis=1)\n",
    "df_list.append(restoran)\n",
    "\n",
    "temp = monthly_expenditure[monthly_expenditure[\"sektor\"] == ana_kategoriler[5]]\n",
    "temp = temp.groupby([\"musteri\"]).mean()\n",
    "temp.columns = [ana_kategoriler[5]+\"_islem_6\",  ana_kategoriler[5]+\"_tutar_6\",\"delete\"]\n",
    "turizm = temp.drop(\"delete\",axis=1)\n",
    "df_list.append(turizm)\n",
    "\n",
    "temp = monthly_expenditure[monthly_expenditure[\"sektor\"] == ana_kategoriler[6]]\n",
    "temp = temp.groupby([\"musteri\"]).mean()\n",
    "temp.columns = [ana_kategoriler[6]+\"_islem_6\",  ana_kategoriler[6]+\"_tutar_6\",\"delete\"]\n",
    "tasimacilik = temp.drop(\"delete\",axis=1)\n",
    "df_list.append(tasimacilik)\n",
    "\n",
    "temp = monthly_expenditure[monthly_expenditure[\"sektor\"] == ana_kategoriler[7]]\n",
    "temp = temp.groupby([\"musteri\"]).mean()\n",
    "temp.columns = [ana_kategoriler[7]+\"_islem_6\",  ana_kategoriler[7]+\"_tutar_6\",\"delete\"]\n",
    "yakıt = temp.drop(\"delete\",axis=1)\n",
    "df_list.append(yakıt)\n",
    "\n",
    "temp = monthly_expenditure[monthly_expenditure[\"sektor\"] == ana_kategoriler[8]]\n",
    "temp = temp.groupby([\"musteri\"]).mean()\n",
    "temp.columns = [ana_kategoriler[8]+\"_islem_6\",  ana_kategoriler[8]+\"_tutar_6\",\"delete\"]\n",
    "elek_esya = temp.drop(\"delete\",axis=1)\n",
    "df_list.append(elek_esya)\n",
    "\n",
    "temp = monthly_expenditure[monthly_expenditure[\"sektor\"] == ana_kategoriler[9]]\n",
    "temp = temp.groupby([\"musteri\"]).mean()\n",
    "temp.columns = [ana_kategoriler[9]+\"_islem_6\",  ana_kategoriler[9]+\"_tutar_6\",\"delete\"]\n",
    "saglik = temp.drop(\"delete\",axis=1)\n",
    "df_list.append(saglik)\n",
    "\n",
    "temp = monthly_expenditure[monthly_expenditure[\"sektor\"] == ana_kategoriler[10]]\n",
    "temp = temp.groupby([\"musteri\"]).mean()\n",
    "temp.columns = [ana_kategoriler[10]+\"_islem_6\",  ana_kategoriler[10]+\"_tutar_6\",\"delete\"]\n",
    "dernek = temp.drop(\"delete\",axis=1)\n",
    "df_list.append(dernek)\n",
    "\n",
    "temp = monthly_expenditure[monthly_expenditure[\"sektor\"] == ana_kategoriler[11]]\n",
    "temp = temp.groupby([\"musteri\"]).mean()\n",
    "temp.columns = [ana_kategoriler[11]+\"_islem_6\",  ana_kategoriler[11]+\"_tutar_6\",\"delete\"]\n",
    "alkol = temp.drop(\"delete\",axis=1)\n",
    "df_list.append(alkol)\n",
    "\n",
    "temp = monthly_expenditure[monthly_expenditure[\"sektor\"] == ana_kategoriler[12]]\n",
    "temp = temp.groupby([\"musteri\"]).mean()\n",
    "temp.columns = [ana_kategoriler[12]+\"_islem_6\",  ana_kategoriler[12]+\"_tutar_6\",\"delete\"]\n",
    "bahce = temp.drop(\"delete\",axis=1)\n",
    "df_list.append(bahce)"
   ]
  },
  {
   "cell_type": "code",
   "execution_count": null,
   "metadata": {
    "colab": {
     "base_uri": "https://localhost:8080/",
     "height": 455
    },
    "id": "_Zsz6Ht4Yp8-",
    "outputId": "29cb55ab-5a2d-443b-8985-d86d932176f7"
   },
   "outputs": [
    {
     "data": {
      "text/html": [
       "<div>\n",
       "<style scoped>\n",
       "    .dataframe tbody tr th:only-of-type {\n",
       "        vertical-align: middle;\n",
       "    }\n",
       "\n",
       "    .dataframe tbody tr th {\n",
       "        vertical-align: top;\n",
       "    }\n",
       "\n",
       "    .dataframe thead th {\n",
       "        text-align: right;\n",
       "    }\n",
       "</style>\n",
       "<table border=\"1\" class=\"dataframe\">\n",
       "  <thead>\n",
       "    <tr style=\"text-align: right;\">\n",
       "      <th></th>\n",
       "      <th>BAHCE_CICEKCLK_islem_6</th>\n",
       "      <th>BAHCE_CICEKCLK_tutar_6</th>\n",
       "    </tr>\n",
       "    <tr>\n",
       "      <th>musteri</th>\n",
       "      <th></th>\n",
       "      <th></th>\n",
       "    </tr>\n",
       "  </thead>\n",
       "  <tbody>\n",
       "    <tr>\n",
       "      <th>00088d74bd</th>\n",
       "      <td>1.0</td>\n",
       "      <td>140.0</td>\n",
       "    </tr>\n",
       "    <tr>\n",
       "      <th>0015501e39</th>\n",
       "      <td>1.0</td>\n",
       "      <td>50.0</td>\n",
       "    </tr>\n",
       "    <tr>\n",
       "      <th>0015f58946</th>\n",
       "      <td>1.0</td>\n",
       "      <td>70.0</td>\n",
       "    </tr>\n",
       "    <tr>\n",
       "      <th>00419a049b</th>\n",
       "      <td>1.0</td>\n",
       "      <td>80.0</td>\n",
       "    </tr>\n",
       "    <tr>\n",
       "      <th>004c505af3</th>\n",
       "      <td>1.5</td>\n",
       "      <td>155.0</td>\n",
       "    </tr>\n",
       "    <tr>\n",
       "      <th>...</th>\n",
       "      <td>...</td>\n",
       "      <td>...</td>\n",
       "    </tr>\n",
       "    <tr>\n",
       "      <th>ffa67aaeb4</th>\n",
       "      <td>1.0</td>\n",
       "      <td>70.0</td>\n",
       "    </tr>\n",
       "    <tr>\n",
       "      <th>ffa8b62d39</th>\n",
       "      <td>1.0</td>\n",
       "      <td>70.0</td>\n",
       "    </tr>\n",
       "    <tr>\n",
       "      <th>ffbb3a00d9</th>\n",
       "      <td>1.0</td>\n",
       "      <td>60.0</td>\n",
       "    </tr>\n",
       "    <tr>\n",
       "      <th>ffcf238032</th>\n",
       "      <td>1.0</td>\n",
       "      <td>20.0</td>\n",
       "    </tr>\n",
       "    <tr>\n",
       "      <th>ffe292d0fb</th>\n",
       "      <td>1.0</td>\n",
       "      <td>90.0</td>\n",
       "    </tr>\n",
       "  </tbody>\n",
       "</table>\n",
       "<p>2534 rows × 2 columns</p>\n",
       "</div>"
      ],
      "text/plain": [
       "            BAHCE_CICEKCLK_islem_6  BAHCE_CICEKCLK_tutar_6\n",
       "musteri                                                   \n",
       "00088d74bd                     1.0                   140.0\n",
       "0015501e39                     1.0                    50.0\n",
       "0015f58946                     1.0                    70.0\n",
       "00419a049b                     1.0                    80.0\n",
       "004c505af3                     1.5                   155.0\n",
       "...                            ...                     ...\n",
       "ffa67aaeb4                     1.0                    70.0\n",
       "ffa8b62d39                     1.0                    70.0\n",
       "ffbb3a00d9                     1.0                    60.0\n",
       "ffcf238032                     1.0                    20.0\n",
       "ffe292d0fb                     1.0                    90.0\n",
       "\n",
       "[2534 rows x 2 columns]"
      ]
     },
     "execution_count": 16,
     "metadata": {
      "tags": []
     },
     "output_type": "execute_result"
    }
   ],
   "source": [
    "df_list[12]"
   ]
  },
  {
   "cell_type": "code",
   "execution_count": 8,
   "metadata": {
    "id": "HSaEy970Yp8_"
   },
   "outputs": [],
   "source": [
    "\n",
    "# print(max(train[\"kidem_suresi\"])) # barış: kıdem süresi büyük ihtimalle ay cinsinden. her neyse önemi yok zaten herkes için aynı.\n",
    "# Berke: Abi kidem_süresine baktığımzda -1 olanları görüyoruz onları average yapalım\n",
    "train.loc[train['kidem_suresi'] == -1, 'kidem_suresi'] = train[\"kidem_suresi\"].mean()\n",
    "test.loc[train['kidem_suresi'] == -1, 'kidem_suresi'] = test[\"kidem_suresi\"].mean()"
   ]
  },
  {
   "cell_type": "code",
   "execution_count": 9,
   "metadata": {
    "colab": {
     "base_uri": "https://localhost:8080/"
    },
    "id": "jzK1O1z0Yp8_",
    "outputId": "3a3f15a8-e164-4c4e-8485-961126264497"
   },
   "outputs": [
    {
     "data": {
      "text/plain": [
       "44af6626d6    18135\n",
       "314826bda8     1637\n",
       "91ed9c1e18     1033\n",
       "ba91c4a92b     1001\n",
       "bfd9cb6270      704\n",
       "51155d7cc3      556\n",
       "b18c21407b      433\n",
       "6da8606d6e      410\n",
       "62260c15fb      287\n",
       "4e1d23cb0a      257\n",
       "527516f307      252\n",
       "419188ba43      242\n",
       "7330d6bdb3      192\n",
       "9034d4c83c      192\n",
       "8bbaa7ab87      102\n",
       "51017102ac       85\n",
       "070e3be3ae       65\n",
       "8a8492b947       36\n",
       "eea19ef68d       34\n",
       "5aaf0d2c89        9\n",
       "Name: meslek_grubu, dtype: int64"
      ]
     },
     "execution_count": 9,
     "metadata": {
      "tags": []
     },
     "output_type": "execute_result"
    }
   ],
   "source": [
    "train[\"meslek_grubu\"].value_counts()\n",
    "test[\"meslek_grubu\"].value_counts()"
   ]
  },
  {
   "cell_type": "code",
   "execution_count": 10,
   "metadata": {
    "id": "VTAes3lEYp9A"
   },
   "outputs": [],
   "source": [
    "train.loc[train['meslek_grubu'] == \"44af6626d6\", 'meslek'] = 1\n",
    "train.loc[train['meslek_grubu'] != \"44af6626d6\", 'meslek'] = 0\n",
    "\n",
    "\n",
    "\n",
    "test.loc[test['meslek_grubu'] == \"44af6626d6\", 'meslek'] = 1\n",
    "test.loc[test['meslek_grubu'] != \"44af6626d6\", 'meslek'] = 0\n",
    "\n"
   ]
  },
  {
   "cell_type": "code",
   "execution_count": null,
   "metadata": {
    "colab": {
     "base_uri": "https://localhost:8080/"
    },
    "id": "rPybya67Yp9A",
    "outputId": "6fc55d08-a591-45d5-aeb7-1bf90b2344ab"
   },
   "outputs": [
    {
     "data": {
      "text/plain": [
       "991c4998fb    24159\n",
       "d36d84f51a    15820\n",
       "915be3a7a4     6090\n",
       "ba7b390fc4     5145\n",
       "242927d0f5     2792\n",
       "51be29729b     2645\n",
       "eb35a5eb6b     1570\n",
       "289777e76d      810\n",
       "b026b8ee68      514\n",
       "f1fcd26d00      197\n",
       "a996720382      159\n",
       "83a26fc2fd       27\n",
       "3773727d6e        1\n",
       "Name: is_durumu, dtype: int64"
      ]
     },
     "execution_count": 20,
     "metadata": {
      "tags": []
     },
     "output_type": "execute_result"
    }
   ],
   "source": [
    "train[\"is_durumu\"].value_counts()"
   ]
  },
  {
   "cell_type": "code",
   "execution_count": 11,
   "metadata": {
    "id": "U7q9od2hYp9B"
   },
   "outputs": [],
   "source": [
    "train.loc[train['is_durumu'] != \"991c4998fb\", 'is'] = \"0\"\n",
    "train.loc[train['is_durumu'] == \"991c4998fb\", 'is'] = \"1\"\n",
    "\n",
    "\n",
    "\n",
    "\n",
    "test.loc[test['is_durumu'] != \"991c4998fb\", 'is'] = \"0\"\n",
    "test.loc[test['is_durumu'] == \"991c4998fb\", 'is'] = \"1\"\n",
    "\n",
    "\n"
   ]
  },
  {
   "cell_type": "code",
   "execution_count": null,
   "metadata": {
    "id": "eJkoNrj8Yp9B"
   },
   "outputs": [],
   "source": [
    "train.head()"
   ]
  },
  {
   "cell_type": "code",
   "execution_count": null,
   "metadata": {
    "id": "U264YqiPYp9B"
   },
   "outputs": [],
   "source": []
  },
  {
   "cell_type": "code",
   "execution_count": 12,
   "metadata": {
    "id": "-T4S4nrfYp9B"
   },
   "outputs": [],
   "source": [
    "train.drop(\"tarih\",axis=1,inplace=True)\n",
    "test.drop(\"tarih\",axis=1,inplace=True)"
   ]
  },
  {
   "cell_type": "code",
   "execution_count": 12,
   "metadata": {
    "colab": {
     "base_uri": "https://localhost:8080/"
    },
    "id": "0nfqtIatYp9B",
    "outputId": "d6d19567-9bab-44e6-de02-643f5a002a98"
   },
   "outputs": [
    {
     "data": {
      "text/plain": [
       "musteri             0\n",
       "yas                 0\n",
       "kidem_suresi        0\n",
       "egitim            208\n",
       "is_durumu          54\n",
       "meslek_grubu    14338\n",
       "meslek              0\n",
       "is                  0\n",
       "dtype: int64"
      ]
     },
     "execution_count": 12,
     "metadata": {
      "tags": []
     },
     "output_type": "execute_result"
    }
   ],
   "source": [
    "test.isna().sum()"
   ]
  },
  {
   "cell_type": "code",
   "execution_count": 13,
   "metadata": {
    "id": "TyFjJoONYp9C"
   },
   "outputs": [],
   "source": [
    "train.drop(\"meslek_grubu\",axis=1,inplace=True)\n",
    "test.drop(\"meslek_grubu\",axis=1,inplace=True)\n",
    "\n",
    "\n",
    "#train.drop(\"is_durumu\",axis=1,inplace=True)\n",
    "#test.drop(\"is_durumu\",axis=1,inplace=True)"
   ]
  },
  {
   "cell_type": "code",
   "execution_count": 14,
   "metadata": {
    "id": "fYC89LT_Yp9C"
   },
   "outputs": [],
   "source": [
    "train = train.dropna()\r\n",
    "test = test.dropna()"
   ]
  },
  {
   "cell_type": "code",
   "execution_count": null,
   "metadata": {
    "id": "FFZCgWLYYp9C"
   },
   "outputs": [],
   "source": [
    "train.isna().sum()"
   ]
  },
  {
   "cell_type": "markdown",
   "metadata": {
    "id": "1mwpICsoYp9D"
   },
   "source": [
    "# Yapılacaklar\n",
    "* Train ve test datalarındaki stringleri encode et\n",
    "* Çok yüksek harcaması olan reisi at gitsin\n",
    "* Birleşmeden önce bir visualization yap belki \n",
    "* İş durumunda(+kıdem süresinde belki) clustering "
   ]
  },
  {
   "cell_type": "markdown",
   "metadata": {
    "id": "spBatHDCYp9D"
   },
   "source": [
    "*> Encoding categorical variables*"
   ]
  },
  {
   "cell_type": "code",
   "execution_count": null,
   "metadata": {
    "id": "8zNc8M0JYp9D"
   },
   "outputs": [],
   "source": [
    "train.head(5)\n",
    "#train.info()"
   ]
  },
  {
   "cell_type": "code",
   "execution_count": 15,
   "metadata": {
    "id": "EgORMHEvYp9E"
   },
   "outputs": [],
   "source": [
    "train = train.set_index('musteri')\n",
    "test = test.set_index('musteri')\n"
   ]
  },
  {
   "cell_type": "code",
   "execution_count": null,
   "metadata": {
    "id": "1YutRNBeYp9E"
   },
   "outputs": [],
   "source": [
    "train.head(5)"
   ]
  },
  {
   "cell_type": "markdown",
   "metadata": {
    "id": "Nnk6-TPCYp9E"
   },
   "source": [
    "# Train to new_train"
   ]
  },
  {
   "cell_type": "code",
   "execution_count": 16,
   "metadata": {
    "id": "cdgGqUYVYp9E"
   },
   "outputs": [],
   "source": [
    "new_train = train\n",
    "new_test = test\n",
    "\n",
    "for i in df_list:\n",
    "    new_train = new_train.merge(i, on='musteri', how='left')\n",
    "    new_test = new_test.merge(i, on='musteri', how='left')\n",
    "    \n",
    "new_train = new_train.merge(six_month,on=\"musteri\",how=\"left\")\n",
    "new_test = new_test.merge(six_month,on=\"musteri\",how=\"left\")\n",
    "\n",
    "new_train = new_train.fillna(0)  \n",
    "new_test = new_test.fillna(0)"
   ]
  },
  {
   "cell_type": "code",
   "execution_count": 17,
   "metadata": {
    "id": "fI8c8NdYYp9F"
   },
   "outputs": [],
   "source": [
    "y = new_train[\"target\"]\n",
    "X = new_train.drop(\"target\",axis = 1)\n",
    "X = pd.get_dummies(X)\n",
    "new_test = pd.get_dummies(new_test)\n",
    "from sklearn.model_selection import train_test_split\n",
    "from sklearn.ensemble import RandomForestClassifier\n",
    "X_train, X_test, y_train , y_test = train_test_split(X ,y,test_size = 0.25, random_state=41)\n"
   ]
  },
  {
   "cell_type": "code",
   "execution_count": null,
   "metadata": {
    "id": "whWGnSfLYp9F"
   },
   "outputs": [],
   "source": []
  },
  {
   "cell_type": "code",
   "execution_count": null,
   "metadata": {
    "id": "cv_ykB0qYp9G"
   },
   "outputs": [],
   "source": [
    "X_train.head()"
   ]
  },
  {
   "cell_type": "code",
   "execution_count": null,
   "metadata": {
    "id": "yd8_w3IoYp9G"
   },
   "outputs": [],
   "source": [
    "new_test.head()"
   ]
  },
  {
   "cell_type": "code",
   "execution_count": null,
   "metadata": {
    "id": "6OZuyhjKYp9G"
   },
   "outputs": [],
   "source": [
    "X_train.head()"
   ]
  },
  {
   "cell_type": "code",
   "execution_count": null,
   "metadata": {
    "id": "7KWId7HXYp9G"
   },
   "outputs": [],
   "source": [
    "X_test.head()"
   ]
  },
  {
   "cell_type": "code",
   "execution_count": null,
   "metadata": {
    "id": "2BFyLbO6Yp9H"
   },
   "outputs": [],
   "source": [
    "\"\"\"# example of grid searching key hyperparameters for gradient boosting on a classification dataset\n",
    "from sklearn.datasets import make_classification\n",
    "from sklearn.model_selection import RepeatedStratifiedKFold\n",
    "from sklearn.model_selection import GridSearchCV\n",
    "from sklearn.ensemble import GradientBoostingClassifier\n",
    "# define dataset\n",
    "X, y = make_classification(n_samples=1000, n_features=20, n_informative=15, n_redundant=5, random_state=7)\n",
    "# define the model with default hyperparameters\n",
    "model = GradientBoostingClassifier()\n",
    "# define the grid of values to search\n",
    "grid = dict()\n",
    "grid['n_estimators'] = [10, 50, 100]\n",
    "grid['learning_rate'] = [0.03, 0.001, 0.01, 0.1]\n",
    "grid['subsample'] = [0.5, 0.7, 1.0]\n",
    "grid['max_depth'] = [3, 7, 9]\n",
    "# define the evaluation procedure\n",
    "cv = RepeatedStratifiedKFold(n_splits=10, n_repeats=3, random_state=1)\n",
    "# define the grid search procedure\n",
    "grid_search = GridSearchCV(estimator=model, param_grid=grid, n_jobs=-1, cv=cv, scoring='accuracy',verbose=2)\n",
    "# execute the grid search\n",
    "grid_result = grid_search.fit(X_train2, y_train)\n",
    "# summarize the best score and configuration\n",
    "print(\"Best: %f using %s\" % (grid_result.best_score_, grid_result.best_params_))\n",
    "# summarize all scores that were evaluated\n",
    "means = grid_result.cv_results_['mean_test_score']\n",
    "stds = grid_result.cv_results_['std_test_score']\n",
    "params = grid_result.cv_results_['params']\n",
    "for mean, stdev, param in zip(means, stds, params):\n",
    "    print(\"%f (%f) with: %r\" % (mean, stdev, param))\"\"\""
   ]
  },
  {
   "cell_type": "code",
   "execution_count": null,
   "metadata": {
    "id": "0efIA8tzYp9H"
   },
   "outputs": [],
   "source": []
  },
  {
   "cell_type": "code",
   "execution_count": null,
   "metadata": {
    "id": "LIEOx2VoYp9H"
   },
   "outputs": [],
   "source": [
    "#b = data_classification(X, y)"
   ]
  },
  {
   "cell_type": "code",
   "execution_count": null,
   "metadata": {
    "id": "ScoGLUqXYp9H"
   },
   "outputs": [],
   "source": [
    "#b.split(42)"
   ]
  },
  {
   "cell_type": "code",
   "execution_count": null,
   "metadata": {
    "id": "rDI1rphVYp9I"
   },
   "outputs": [],
   "source": [
    "#b.default_processes()"
   ]
  },
  {
   "cell_type": "code",
   "execution_count": null,
   "metadata": {
    "id": "5PlhmAgPYp9I"
   },
   "outputs": [],
   "source": [
    "#from sklearn.tree import DecisionTreeClassifier"
   ]
  },
  {
   "cell_type": "code",
   "execution_count": null,
   "metadata": {
    "id": "cNoLkt3BYp9J"
   },
   "outputs": [],
   "source": [
    "#b.grid_all([\"lgbm\"])"
   ]
  },
  {
   "cell_type": "code",
   "execution_count": null,
   "metadata": {
    "id": "uu-AHGImYp9J"
   },
   "outputs": [],
   "source": [
    "#regression = RandomForestClassifier(criterion = 'gini', n_estimators=1000,n_jobs =-1)\n",
    "#regression.fit(X_train, y_train)"
   ]
  },
  {
   "cell_type": "code",
   "execution_count": null,
   "metadata": {
    "id": "TXQk2SWhYp9K"
   },
   "outputs": [],
   "source": [
    "#y_probs = regression.predict_proba(X_test)\n",
    "#y_probs = y_probs[:,1]\n",
    "#a = 0.01\n",
    "#temp1 = []\n",
    "#temp2 = []\n",
    "#while a <0.7:\n",
    "    #y_pred = [1 if i > a else 0 for i in y_probs]\n",
    "    #fpr, tpr, thresholds = metrics.roc_curve(y_test, y_pred, pos_label=1)\n",
    "    #temp1.append(metrics.auc(fpr, tpr))\n",
    "    #temp2.append(a)\n",
    "    #a += 0.01\n",
    "    \n",
    "#zipped_lists = zip(temp1, temp2)\n",
    "#sorted_pairs = sorted(zipped_lists, reverse=True)\n"
   ]
  },
  {
   "cell_type": "code",
   "execution_count": null,
   "metadata": {
    "id": "zCahXsqmYp9L"
   },
   "outputs": [],
   "source": [
    "#sorted_pairs[:3]"
   ]
  },
  {
   "cell_type": "code",
   "execution_count": null,
   "metadata": {
    "id": "xrSD89KmYp9L",
    "scrolled": true
   },
   "outputs": [],
   "source": [
    "#xgb_model = XGBClassifier().fit(X_train,y_train)\n",
    "#lgbm_model = LGBMClassifier().fit(X_train,y_train)\n",
    "#cat_model = CatBoostClassifier().fit(X_train,y_train)"
   ]
  },
  {
   "cell_type": "code",
   "execution_count": null,
   "metadata": {
    "id": "gs8W45MEYp9L"
   },
   "outputs": [],
   "source": [
    "#roc_auc_score(y_test, xgb_model.predict_proba(X_test2)[:, 1])"
   ]
  },
  {
   "cell_type": "code",
   "execution_count": null,
   "metadata": {
    "id": "LydQBww5Yp9M"
   },
   "outputs": [],
   "source": [
    "#roc_auc_score(y_test, lgbm_model.predict_proba(X_test2)[:, 1])"
   ]
  },
  {
   "cell_type": "code",
   "execution_count": null,
   "metadata": {
    "id": "ihEbMco6Yp9N"
   },
   "outputs": [],
   "source": [
    "#roc_auc_score(y_test, cat_model.predict_proba(X_test2)[:, 1])"
   ]
  },
  {
   "cell_type": "code",
   "execution_count": null,
   "metadata": {
    "id": "d2_OCQAJYp9N"
   },
   "outputs": [],
   "source": [
    "#y_probs = lgbm_model.predict_proba(X_test)\n",
    "#y_probs = y_probs[:,1]\n",
    "#a = 0.01\n",
    "#temp1 = []\n",
    "#temp2 = []\n",
    "#while a <0.7:\n",
    "    #y_pred = [1 if i > a else 0 for i in y_probs]\n",
    "    #fpr, tpr, thresholds = metrics.roc_curve(y_test, y_pred, pos_label=1)\n",
    "    #temp1.append(metrics.auc(fpr, tpr))\n",
    "    #temp2.append(a)\n",
    "   # a += 0.01\n",
    "    \n",
    "#zipped_lists = zip(temp1, temp2)\n",
    "#sorted_pairs = sorted(zipped_lists, reverse=True)\n",
    "#sorted_pairs[:3]"
   ]
  },
  {
   "cell_type": "code",
   "execution_count": null,
   "metadata": {
    "id": "lZSUiNSnYp9N"
   },
   "outputs": [],
   "source": [
    "#y_probs = cat_model.predict_proba(X_test)\n",
    "#y_probs = y_probs[:,1]\n",
    "#a = 0.01\n",
    "#temp1 = []\n",
    "#temp2 = []\n",
    "#while a <0.7:\n",
    "    #y_pred = [1 if i > a else 0 for i in y_probs]\n",
    "    #fpr, tpr, thresholds = metrics.roc_curve(y_test, y_pred, pos_label=1)\n",
    "    #temp1.append(metrics.auc(fpr, tpr))\n",
    "    #temp2.append(a)\n",
    "    #a += 0.01\n",
    "    \n",
    "#zipped_lists = zip(temp1, temp2)\n",
    "#sorted_pairs = sorted(zipped_lists, reverse=True)\n",
    "#sorted_pairs[:3]"
   ]
  },
  {
   "cell_type": "code",
   "execution_count": null,
   "metadata": {
    "id": "gmdL4__5Yp9N"
   },
   "outputs": [],
   "source": [
    "#y_probs = xgb_model.predict_proba(X_test)\n",
    "#y_probs = y_probs[:,1]\n",
    "#a = 0.01\n",
    "#temp1 = []\n",
    "#temp2 = []\n",
    "#while a <0.7:\n",
    "    #y_pred = [1 if i > a else 0 for i in y_probs]\n",
    "    #fpr, tpr, thresholds = metrics.roc_curve(y_test, y_pred, pos_label=1)\n",
    "    #temp1.append(metrics.auc(fpr, tpr))\n",
    "    #temp2.append(a)\n",
    "    #a += 0.01\n",
    "    \n",
    "#zipped_lists = zip(temp1, temp2)\n",
    "#sorted_pairs = sorted(zipped_lists, reverse=True)\n",
    "#sorted_pairs[:3]"
   ]
  },
  {
   "cell_type": "markdown",
   "metadata": {
    "id": "UURzx9foYp9N"
   },
   "source": [
    "# Output\n"
   ]
  },
  {
   "cell_type": "code",
   "execution_count": null,
   "metadata": {
    "id": "EfqdM1a-Yp9O"
   },
   "outputs": [],
   "source": [
    "#lgbm_model = LGBMClassifier().fit(X, y)"
   ]
  },
  {
   "cell_type": "code",
   "execution_count": null,
   "metadata": {
    "id": "rkPPDB02Yp9O"
   },
   "outputs": [],
   "source": [
    "#y_probs = lgbm_model.predict_proba(new_test)\n",
    "#y_probs = y_probs[:,1]\n",
    "#y_pred = [1 if i > 0.04 else 0 for i in y_probs]"
   ]
  },
  {
   "cell_type": "code",
   "execution_count": null,
   "metadata": {
    "id": "mPOUWUDxYp9O"
   },
   "outputs": [],
   "source": [
    "#test1 = pd.read_csv(\"test.csv\")\n",
    "#lists = [list(test1[\"musteri\"]),y_pred]\n",
    "#df =  pd.DataFrame({\"musteri\":list(test1[\"musteri\"]),\"target\":y_pred})\n"
   ]
  },
  {
   "cell_type": "code",
   "execution_count": null,
   "metadata": {
    "id": "aEvdAQk1Yp9O"
   },
   "outputs": [],
   "source": [
    "#df.head()"
   ]
  },
  {
   "cell_type": "code",
   "execution_count": null,
   "metadata": {
    "id": "4QifNKGtYp9P"
   },
   "outputs": [],
   "source": [
    "#df.to_csv('results.csv', header = True,index=False)"
   ]
  },
  {
   "cell_type": "code",
   "execution_count": null,
   "metadata": {
    "id": "BeobqbXCNBWI"
   },
   "outputs": [],
   "source": [
    "X_train.corr()"
   ]
  },
  {
   "cell_type": "markdown",
   "metadata": {
    "id": "bg3lXooZsyK_"
   },
   "source": [
    "kernel PCA (dimension reduction and feature extraction)"
   ]
  },
  {
   "cell_type": "code",
   "execution_count": 18,
   "metadata": {
    "id": "Fm3rrD4ZxhyD"
   },
   "outputs": [],
   "source": [
    "from sklearn.preprocessing import StandardScaler\r\n",
    "sc = StandardScaler()\r\n",
    "X_train = sc.fit_transform(X_train)\r\n",
    "X_test = sc.transform(X_test)"
   ]
  },
  {
   "cell_type": "code",
   "execution_count": 19,
   "metadata": {
    "id": "LIMyrs6Gsxcf"
   },
   "outputs": [],
   "source": [
    "from sklearn.decomposition import PCA\r\n",
    "pca = PCA(n_components = 2)\r\n",
    "X_train_pca = pca.fit_transform(X_train)\r\n",
    "X_test_pca = pca.transform(X_test)"
   ]
  },
  {
   "cell_type": "code",
   "execution_count": 24,
   "metadata": {
    "colab": {
     "base_uri": "https://localhost:8080/"
    },
    "id": "dv7VW6GFzL8e",
    "outputId": "5ab68332-beed-467a-d4a1-4cdbd9b72968"
   },
   "outputs": [
    {
     "data": {
      "text/plain": [
       "RandomForestClassifier(bootstrap=True, ccp_alpha=0.0, class_weight=None,\n",
       "                       criterion='entropy', max_depth=80, max_features=1,\n",
       "                       max_leaf_nodes=None, max_samples=None,\n",
       "                       min_impurity_decrease=0.0, min_impurity_split=None,\n",
       "                       min_samples_leaf=3, min_samples_split=10,\n",
       "                       min_weight_fraction_leaf=0.0, n_estimators=1000,\n",
       "                       n_jobs=None, oob_score=False, random_state=41, verbose=0,\n",
       "                       warm_start=False)"
      ]
     },
     "execution_count": 24,
     "metadata": {
      "tags": []
     },
     "output_type": "execute_result"
    }
   ],
   "source": [
    "classifier_rf = RandomForestClassifier(n_estimators = 1000, criterion = 'entropy', random_state = 41,bootstrap= True,\r\n",
    " max_depth= 80,\r\n",
    " max_features= 1,\r\n",
    " min_samples_leaf= 3,\r\n",
    " min_samples_split= 10)\r\n",
    "classifier_rf.fit(X_train_pca, y_train)"
   ]
  },
  {
   "cell_type": "code",
   "execution_count": 26,
   "metadata": {
    "colab": {
     "base_uri": "https://localhost:8080/"
    },
    "id": "ABluI1fDtWKH",
    "outputId": "2577de3f-5563-48da-b527-c98ef837cd0d"
   },
   "outputs": [
    {
     "data": {
      "text/plain": [
       "[(0.6194521396399078, 0.01),\n",
       " (0.6193247900397854, 0.02),\n",
       " (0.6049183367713759, 0.03),\n",
       " (0.5989818220942749, 0.04),\n",
       " (0.5832878286631339, 0.05),\n",
       " (0.5762775307221983, 0.060000000000000005),\n",
       " (0.5645105466892198, 0.07),\n",
       " (0.549605049613976, 0.08),\n",
       " (0.5455267679337992, 0.09),\n",
       " (0.5427342411415856, 0.09999999999999999),\n",
       " (0.5425711860461019, 0.10999999999999999),\n",
       " (0.5424058696025787, 0.11999999999999998),\n",
       " (0.5413687439806485, 0.12999999999999998),\n",
       " (0.538485644248535, 0.13999999999999999),\n",
       " (0.536227985776835, 0.15),\n",
       " (0.5311664937727235, 0.16),\n",
       " (0.5276697355936657, 0.17),\n",
       " (0.5235824085213308, 0.18000000000000002),\n",
       " (0.5215665952715449, 0.19000000000000003),\n",
       " (0.5195670875313078, 0.20000000000000004),\n",
       " (0.5141546105077941, 0.21000000000000005),\n",
       " (0.5106392854711483, 0.22000000000000006),\n",
       " (0.5085165937719143, 0.23000000000000007),\n",
       " (0.5073191504758113, 0.25000000000000006),\n",
       " (0.5071819223553059, 0.26000000000000006),\n",
       " (0.5062381070945866, 0.24000000000000007),\n",
       " (0.5047988185765695, 0.2800000000000001),\n",
       " (0.5046407622504364, 0.2700000000000001),\n",
       " (0.5038595260119295, 0.2900000000000001),\n",
       " (0.5034596244638819, 0.3000000000000001),\n",
       " (0.5032526516091038, 0.3300000000000001),\n",
       " (0.5031317289981466, 0.35000000000000014),\n",
       " (0.5028341832034685, 0.3200000000000001),\n",
       " (0.5028178776939201, 0.34000000000000014),\n",
       " (0.5024157147978332, 0.3100000000000001),\n",
       " (0.5020529469649615, 0.37000000000000016),\n",
       " (0.501739095660735, 0.36000000000000015),\n",
       " (0.5008695478303675, 0.4000000000000002),\n",
       " (0.5008532423208191, 0.5700000000000003),\n",
       " (0.5008532423208191, 0.5600000000000003),\n",
       " (0.5008532423208191, 0.5500000000000003),\n",
       " (0.5008532423208191, 0.5400000000000003),\n",
       " (0.5008532423208191, 0.5300000000000002),\n",
       " (0.5008532423208191, 0.5200000000000002),\n",
       " (0.5008532423208191, 0.5100000000000002),\n",
       " (0.5008532423208191, 0.5000000000000002),\n",
       " (0.5008183699536828, 0.49000000000000027),\n",
       " (0.5007137528522739, 0.48000000000000026),\n",
       " (0.5007137528522739, 0.47000000000000025),\n",
       " (0.5007137528522739, 0.46000000000000024),\n",
       " (0.5006951859946861, 0.3900000000000002),\n",
       " (0.5006788804851376, 0.45000000000000023),\n",
       " (0.5005905688932772, 0.38000000000000017),\n",
       " (0.5005742633837288, 0.4400000000000002),\n",
       " (0.5002604120795022, 0.4300000000000002),\n",
       " (0.5002255397123659, 0.4200000000000002),\n",
       " (0.5000860502438208, 0.4100000000000002),\n",
       " (0.5, 0.6900000000000004),\n",
       " (0.5, 0.6800000000000004),\n",
       " (0.5, 0.6700000000000004),\n",
       " (0.5, 0.6600000000000004),\n",
       " (0.5, 0.6500000000000004),\n",
       " (0.5, 0.6400000000000003),\n",
       " (0.5, 0.6300000000000003),\n",
       " (0.5, 0.6200000000000003),\n",
       " (0.5, 0.6100000000000003),\n",
       " (0.5, 0.6000000000000003),\n",
       " (0.5, 0.5900000000000003),\n",
       " (0.5, 0.5800000000000003)]"
      ]
     },
     "execution_count": 26,
     "metadata": {
      "tags": []
     },
     "output_type": "execute_result"
    }
   ],
   "source": [
    "y_probs_rfpca = classifier_rf.predict_proba(X_test_pca)\r\n",
    "\r\n",
    "y_probs_rfpca = y_probs_rfpca[:,1]\r\n",
    "a = 0.01\r\n",
    "temp5 = []\r\n",
    "temp6 =[]\r\n",
    "while a <0.7:\r\n",
    "    y_pred_rfpca = [1 if i > a else 0 for i in y_probs_rfpca]\r\n",
    "    fpr, tpr, thresholds = metrics.roc_curve(y_test, y_pred_rfpca, pos_label=1)\r\n",
    "    temp5.append(metrics.auc(fpr, tpr))\r\n",
    "    temp6.append(a)\r\n",
    "    a += 0.01\r\n",
    "    \r\n",
    "zipped_lists_rf5 = zip(temp5, temp6)\r\n",
    "sorted_pairs_rf5 = sorted(zipped_lists_rf5, reverse=True)"
   ]
  },
  {
   "cell_type": "markdown",
   "metadata": {
    "id": "zlaY1cN8pvF3"
   },
   "source": [
    "random forest trial"
   ]
  },
  {
   "cell_type": "code",
   "execution_count": null,
   "metadata": {
    "id": "Xrwk_59ypwyt"
   },
   "outputs": [],
   "source": [
    "from sklearn.preprocessing import StandardScaler\r\n",
    "sc = StandardScaler()\r\n",
    "X_train3 = sc.fit_transform(X_train)\r\n",
    "X_test3 = sc.transform(X_test)"
   ]
  },
  {
   "cell_type": "code",
   "execution_count": null,
   "metadata": {
    "colab": {
     "base_uri": "https://localhost:8080/"
    },
    "id": "X39LKaYZqFji",
    "outputId": "38bf21c0-70f9-4031-9c60-485c78943b4d"
   },
   "outputs": [
    {
     "data": {
      "text/plain": [
       "RandomForestClassifier(bootstrap=True, ccp_alpha=0.0, class_weight=None,\n",
       "                       criterion='entropy', max_depth=80, max_features=1,\n",
       "                       max_leaf_nodes=None, max_samples=None,\n",
       "                       min_impurity_decrease=0.0, min_impurity_split=None,\n",
       "                       min_samples_leaf=3, min_samples_split=10,\n",
       "                       min_weight_fraction_leaf=0.0, n_estimators=5000,\n",
       "                       n_jobs=None, oob_score=False, random_state=41, verbose=0,\n",
       "                       warm_start=False)"
      ]
     },
     "execution_count": 17,
     "metadata": {
      "tags": []
     },
     "output_type": "execute_result"
    }
   ],
   "source": [
    "classifier_rf = RandomForestClassifier(n_estimators = 5000, criterion = 'entropy', random_state = 41,bootstrap= True,\r\n",
    " max_depth= 80,\r\n",
    " max_features= 1,\r\n",
    " min_samples_leaf= 3,\r\n",
    " min_samples_split= 10)\r\n",
    "classifier_rf.fit(X_train3, y_train)"
   ]
  },
  {
   "cell_type": "code",
   "execution_count": null,
   "metadata": {
    "id": "3m3EZ3enqfDa"
   },
   "outputs": [],
   "source": [
    "y_pred_rf = classifier_rf.predict(X_test3)"
   ]
  },
  {
   "cell_type": "code",
   "execution_count": null,
   "metadata": {
    "colab": {
     "base_uri": "https://localhost:8080/"
    },
    "id": "Equlx2bwqNH9",
    "outputId": "02ea5246-f8e5-49cd-aa28-5ecc1f30fb3b"
   },
   "outputs": [
    {
     "data": {
      "text/plain": [
       "[(0.6704092577627572, 0.04),\n",
       " (0.6655985676254498, 0.05),\n",
       " (0.6575458473907954, 0.03),\n",
       " (0.6248400105668572, 0.02),\n",
       " (0.6081467236731073, 0.060000000000000005),\n",
       " (0.5634560170811364, 0.07),\n",
       " (0.5429286295221486, 0.08),\n",
       " (0.5253778008914242, 0.09),\n",
       " (0.5207642645262607, 0.01),\n",
       " (0.5160062137150139, 0.09999999999999999),\n",
       " (0.5104185248836167, 0.10999999999999999),\n",
       " (0.5063441760596994, 0.11999999999999998),\n",
       " (0.5031139248238938, 0.12999999999999998),\n",
       " (0.5023570720447161, 0.13999999999999999),\n",
       " (0.5018623192432154, 0.15),\n",
       " (0.5006983240223464, 0.19000000000000003),\n",
       " (0.5006983240223464, 0.18000000000000002),\n",
       " (0.5006401608163905, 0.17),\n",
       " (0.5005238344044786, 0.16),\n",
       " (0.5, 0.6900000000000004),\n",
       " (0.5, 0.6800000000000004),\n",
       " (0.5, 0.6700000000000004),\n",
       " (0.5, 0.6600000000000004),\n",
       " (0.5, 0.6500000000000004),\n",
       " (0.5, 0.6400000000000003),\n",
       " (0.5, 0.6300000000000003),\n",
       " (0.5, 0.6200000000000003),\n",
       " (0.5, 0.6100000000000003),\n",
       " (0.5, 0.6000000000000003),\n",
       " (0.5, 0.5900000000000003),\n",
       " (0.5, 0.5800000000000003),\n",
       " (0.5, 0.5700000000000003),\n",
       " (0.5, 0.5600000000000003),\n",
       " (0.5, 0.5500000000000003),\n",
       " (0.5, 0.5400000000000003),\n",
       " (0.5, 0.5300000000000002),\n",
       " (0.5, 0.5200000000000002),\n",
       " (0.5, 0.5100000000000002),\n",
       " (0.5, 0.5000000000000002),\n",
       " (0.5, 0.49000000000000027),\n",
       " (0.5, 0.48000000000000026),\n",
       " (0.5, 0.47000000000000025),\n",
       " (0.5, 0.46000000000000024),\n",
       " (0.5, 0.45000000000000023),\n",
       " (0.5, 0.4400000000000002),\n",
       " (0.5, 0.4300000000000002),\n",
       " (0.5, 0.4200000000000002),\n",
       " (0.5, 0.4100000000000002),\n",
       " (0.5, 0.4000000000000002),\n",
       " (0.5, 0.3900000000000002),\n",
       " (0.5, 0.38000000000000017),\n",
       " (0.5, 0.37000000000000016),\n",
       " (0.5, 0.36000000000000015),\n",
       " (0.5, 0.35000000000000014),\n",
       " (0.5, 0.34000000000000014),\n",
       " (0.5, 0.3300000000000001),\n",
       " (0.5, 0.3200000000000001),\n",
       " (0.5, 0.3100000000000001),\n",
       " (0.5, 0.3000000000000001),\n",
       " (0.5, 0.2900000000000001),\n",
       " (0.5, 0.2800000000000001),\n",
       " (0.5, 0.2700000000000001),\n",
       " (0.5, 0.26000000000000006),\n",
       " (0.5, 0.25000000000000006),\n",
       " (0.5, 0.24000000000000007),\n",
       " (0.5, 0.23000000000000007),\n",
       " (0.5, 0.22000000000000006),\n",
       " (0.5, 0.21000000000000005),\n",
       " (0.5, 0.20000000000000004)]"
      ]
     },
     "execution_count": 20,
     "metadata": {
      "tags": []
     },
     "output_type": "execute_result"
    }
   ],
   "source": [
    "y_probs_rf = classifier_rf.predict_proba(X_test3)\r\n",
    "\r\n",
    "y_probs_rf = y_probs_rf[:,1]\r\n",
    "a = 0.01\r\n",
    "temp3 = []\r\n",
    "temp4 =[]\r\n",
    "while a <0.7:\r\n",
    "    y_pred_rf = [1 if i > a else 0 for i in y_probs_rf]\r\n",
    "    fpr, tpr, thresholds = metrics.roc_curve(y_test, y_pred_rf, pos_label=1)\r\n",
    "    temp3.append(metrics.auc(fpr, tpr))\r\n",
    "    temp4.append(a)\r\n",
    "    a += 0.01\r\n",
    "    \r\n",
    "zipped_lists_rf3 = zip(temp3, temp4)\r\n",
    "sorted_pairs_rf3 = sorted(zipped_lists_rf3, reverse=True)"
   ]
  },
  {
   "cell_type": "markdown",
   "metadata": {
    "id": "s_dVp4thiOzD"
   },
   "source": [
    "feature importance"
   ]
  },
  {
   "cell_type": "code",
   "execution_count": null,
   "metadata": {
    "id": "dYOt6CfhHp-6"
   },
   "outputs": [],
   "source": [
    "import matplotlib.pyplot as plt\n",
    "\n",
    "importance = []\n",
    "if classifier_rf is not None:\n",
    "    importance = classifier_rf.feature_importances_\n",
    "    importance = pd.DataFrame(importance, index=X_train3[1], \n",
    "                              columns=[\"Importance\"])\n",
    "\n",
    "    importance[\"Std\"] = np.std([classifier_rf.feature_importances_\n",
    "                                for tree in classifier_rf.estimators_], axis=0)\n",
    "\n",
    "    x = range(importance.shape[0])\n",
    "    y = importance.iloc[:, 0] \n",
    "    yerr = importance.iloc[:, 1] \n",
    "\n",
    "    plt.bar(x, y, yerr=yerr, align=\"center\")\n",
    "    plt.xlabel('features')\n",
    "    plt.ylabel('Feature importance')\n",
    "    plt.title('Importance of different features')\n",
    "    plt.show()"
   ]
  },
  {
   "cell_type": "markdown",
   "metadata": {
    "id": "Md_XaJuAu_zh"
   },
   "source": [
    "trying to improve random forest"
   ]
  },
  {
   "cell_type": "code",
   "execution_count": null,
   "metadata": {
    "colab": {
     "base_uri": "https://localhost:8080/"
    },
    "id": "jYkoSnnHvB9j",
    "outputId": "40510d9c-c08f-4f11-bc1b-6b22ca404cd1"
   },
   "outputs": [
    {
     "name": "stdout",
     "output_type": "stream",
     "text": [
      "{'bootstrap': [True, False],\n",
      " 'max_depth': [10, 20, 30, 40, 50, 60, 70, 80, 90, 100, 110, None],\n",
      " 'max_features': ['auto', 'sqrt'],\n",
      " 'min_samples_leaf': [1, 2, 4],\n",
      " 'min_samples_split': [2, 5, 10],\n",
      " 'n_estimators': [200, 400, 600, 800, 1000, 1200, 1400, 1600, 1800, 2000]}\n"
     ]
    }
   ],
   "source": [
    "from pprint import pprint\r\n",
    "from sklearn.model_selection import RandomizedSearchCV# Number of trees in random forest\r\n",
    "n_estimators = [int(x) for x in np.linspace(start = 200, stop = 2000, num = 10)]\r\n",
    "# Number of features to consider at every split\r\n",
    "max_features = ['auto', 'sqrt']\r\n",
    "# Maximum number of levels in tree\r\n",
    "max_depth = [int(x) for x in np.linspace(10, 110, num = 11)]\r\n",
    "max_depth.append(None)\r\n",
    "# Minimum number of samples required to split a node\r\n",
    "min_samples_split = [2, 5, 10]\r\n",
    "# Minimum number of samples required at each leaf node\r\n",
    "min_samples_leaf = [1, 2, 4]\r\n",
    "# Method of selecting samples for training each tree\r\n",
    "bootstrap = [True, False]# Create the random grid\r\n",
    "random_grid = {'n_estimators': n_estimators,\r\n",
    "               'max_features': max_features,\r\n",
    "               'max_depth': max_depth,\r\n",
    "               'min_samples_split': min_samples_split,\r\n",
    "               'min_samples_leaf': min_samples_leaf,\r\n",
    "               'bootstrap': bootstrap}\r\n",
    "\r\n",
    "pprint(random_grid)"
   ]
  },
  {
   "cell_type": "code",
   "execution_count": null,
   "metadata": {
    "colab": {
     "base_uri": "https://localhost:8080/"
    },
    "id": "r7UfskeWvOGB",
    "outputId": "c1dc1507-da5e-4be5-f1fa-8b149e4f6e9b"
   },
   "outputs": [
    {
     "name": "stdout",
     "output_type": "stream",
     "text": [
      "Fitting 10 folds for each of 100 candidates, totalling 1000 fits\n"
     ]
    },
    {
     "name": "stderr",
     "output_type": "stream",
     "text": [
      "[Parallel(n_jobs=-1)]: Using backend LokyBackend with 2 concurrent workers.\n",
      "/usr/local/lib/python3.6/dist-packages/joblib/externals/loky/process_executor.py:691: UserWarning: A worker stopped while some jobs were given to the executor. This can be caused by a too short worker timeout or by a memory leak.\n",
      "  \"timeout or by a memory leak.\", UserWarning\n",
      "[Parallel(n_jobs=-1)]: Done  37 tasks      | elapsed: 16.8min\n",
      "[Parallel(n_jobs=-1)]: Done 158 tasks      | elapsed: 92.9min\n"
     ]
    }
   ],
   "source": [
    "#Use the random grid to search for best hyperparameters UZUN SÜRÜYOR\r\n",
    "\r\n",
    "rf_random = RandomizedSearchCV(estimator = classifier_rf, param_distributions = random_grid, n_iter = 100, cv = 10, verbose=2, random_state=41, n_jobs = -1)# Fit the random search model\r\n",
    "rf_random.fit(X_train3,y_train)"
   ]
  },
  {
   "cell_type": "markdown",
   "metadata": {
    "id": "hDFWXMVcGKc_"
   },
   "source": [
    "2. grid search aşağıda"
   ]
  },
  {
   "cell_type": "code",
   "execution_count": null,
   "metadata": {
    "id": "OuqUxvlqy38W"
   },
   "outputs": [],
   "source": [
    "from sklearn.model_selection import GridSearchCV\r\n",
    "# Create the parameter grid based on the results of random search \r\n",
    "param_grid = {\r\n",
    "    'bootstrap': [True],\r\n",
    "    'max_depth': [80, 90, 100, 110],\r\n",
    "    'max_features': [1,2,3],\r\n",
    "    'min_samples_leaf': [3, 5],\r\n",
    "    'min_samples_split': [10, 12],\r\n",
    "    'n_estimators': [300, 1000]\r\n",
    "}\r\n",
    "# Create a based model\r\n",
    "\r\n",
    "grid_search = GridSearchCV(estimator = classifier_rf, param_grid = param_grid, \r\n",
    "                          cv = 5, n_jobs = -1, verbose = 2)"
   ]
  },
  {
   "cell_type": "code",
   "execution_count": null,
   "metadata": {
    "colab": {
     "base_uri": "https://localhost:8080/"
    },
    "id": "gz1K2BcnBtjR",
    "outputId": "36cdb51b-0d3e-4029-c1ba-3f380591b14b"
   },
   "outputs": [
    {
     "name": "stdout",
     "output_type": "stream",
     "text": [
      "Fitting 5 folds for each of 96 candidates, totalling 480 fits\n"
     ]
    },
    {
     "name": "stderr",
     "output_type": "stream",
     "text": [
      "[Parallel(n_jobs=-1)]: Using backend LokyBackend with 2 concurrent workers.\n",
      "[Parallel(n_jobs=-1)]: Done  37 tasks      | elapsed:  4.5min\n",
      "[Parallel(n_jobs=-1)]: Done 158 tasks      | elapsed: 22.7min\n",
      "[Parallel(n_jobs=-1)]: Done 361 tasks      | elapsed: 54.6min\n",
      "[Parallel(n_jobs=-1)]: Done 480 out of 480 | elapsed: 73.0min finished\n"
     ]
    },
    {
     "data": {
      "text/plain": [
       "{'bootstrap': True,\n",
       " 'max_depth': 80,\n",
       " 'max_features': 1,\n",
       " 'min_samples_leaf': 3,\n",
       " 'min_samples_split': 10,\n",
       " 'n_estimators': 300}"
      ]
     },
     "execution_count": 26,
     "metadata": {
      "tags": []
     },
     "output_type": "execute_result"
    }
   ],
   "source": [
    "# Fit the grid search to the data\r\n",
    "grid_search.fit(X_train3, y_train)\r\n",
    "grid_search.best_params_"
   ]
  },
  {
   "cell_type": "markdown",
   "metadata": {
    "id": "hZH1_l4VcmD-"
   },
   "source": [
    "Neural Network trial"
   ]
  },
  {
   "cell_type": "code",
   "execution_count": 28,
   "metadata": {
    "colab": {
     "base_uri": "https://localhost:8080/"
    },
    "id": "50YYA-yTcoRo",
    "outputId": "c0a79945-d07c-4fd1-b6ec-b638de895ab5"
   },
   "outputs": [
    {
     "name": "stdout",
     "output_type": "stream",
     "text": [
      "Epoch 1/100\n",
      "1400/1400 [==============================] - 3s 1ms/step - loss: 0.3949 - accuracy: 0.8836\n",
      "Epoch 2/100\n",
      "1400/1400 [==============================] - 2s 1ms/step - loss: 0.1764 - accuracy: 0.9583\n",
      "Epoch 3/100\n",
      "1400/1400 [==============================] - 2s 1ms/step - loss: 0.1699 - accuracy: 0.9588\n",
      "Epoch 4/100\n",
      "1400/1400 [==============================] - 2s 1ms/step - loss: 0.1731 - accuracy: 0.9572\n",
      "Epoch 5/100\n",
      "1400/1400 [==============================] - 2s 1ms/step - loss: 0.1704 - accuracy: 0.9584\n",
      "Epoch 6/100\n",
      "1400/1400 [==============================] - 2s 1ms/step - loss: 0.1704 - accuracy: 0.9582\n",
      "Epoch 7/100\n",
      "1400/1400 [==============================] - 2s 1ms/step - loss: 0.1685 - accuracy: 0.9585\n",
      "Epoch 8/100\n",
      "1400/1400 [==============================] - 2s 1ms/step - loss: 0.1684 - accuracy: 0.9585\n",
      "Epoch 9/100\n",
      "1400/1400 [==============================] - 2s 1ms/step - loss: 0.1686 - accuracy: 0.9584\n",
      "Epoch 10/100\n",
      "1400/1400 [==============================] - 2s 1ms/step - loss: 0.1628 - accuracy: 0.9604\n",
      "Epoch 11/100\n",
      "1400/1400 [==============================] - 2s 1ms/step - loss: 0.1691 - accuracy: 0.9581\n",
      "Epoch 12/100\n",
      "1400/1400 [==============================] - 2s 1ms/step - loss: 0.1674 - accuracy: 0.9588\n",
      "Epoch 13/100\n",
      "1400/1400 [==============================] - 2s 1ms/step - loss: 0.1642 - accuracy: 0.9597\n",
      "Epoch 14/100\n",
      "1400/1400 [==============================] - 2s 1ms/step - loss: 0.1603 - accuracy: 0.9611\n",
      "Epoch 15/100\n",
      "1400/1400 [==============================] - 2s 1ms/step - loss: 0.1654 - accuracy: 0.9592\n",
      "Epoch 16/100\n",
      "1400/1400 [==============================] - 2s 1ms/step - loss: 0.1655 - accuracy: 0.9590\n",
      "Epoch 17/100\n",
      "1400/1400 [==============================] - 2s 1ms/step - loss: 0.1714 - accuracy: 0.9569\n",
      "Epoch 18/100\n",
      "1400/1400 [==============================] - 2s 1ms/step - loss: 0.1705 - accuracy: 0.9574\n",
      "Epoch 19/100\n",
      "1400/1400 [==============================] - 2s 1ms/step - loss: 0.1705 - accuracy: 0.9573\n",
      "Epoch 20/100\n",
      "1400/1400 [==============================] - 2s 1ms/step - loss: 0.1650 - accuracy: 0.9590\n",
      "Epoch 21/100\n",
      "1400/1400 [==============================] - 2s 1ms/step - loss: 0.1634 - accuracy: 0.9595\n",
      "Epoch 22/100\n",
      "1400/1400 [==============================] - 2s 1ms/step - loss: 0.1671 - accuracy: 0.9584\n",
      "Epoch 23/100\n",
      "1400/1400 [==============================] - 2s 1ms/step - loss: 0.1667 - accuracy: 0.9585\n",
      "Epoch 24/100\n",
      "1400/1400 [==============================] - 2s 1ms/step - loss: 0.1675 - accuracy: 0.9581\n",
      "Epoch 25/100\n",
      "1400/1400 [==============================] - 2s 1ms/step - loss: 0.1663 - accuracy: 0.9588\n",
      "Epoch 26/100\n",
      "1400/1400 [==============================] - 2s 1ms/step - loss: 0.1654 - accuracy: 0.9588\n",
      "Epoch 27/100\n",
      "1400/1400 [==============================] - 2s 1ms/step - loss: 0.1658 - accuracy: 0.9587\n",
      "Epoch 28/100\n",
      "1400/1400 [==============================] - 2s 1ms/step - loss: 0.1644 - accuracy: 0.9590\n",
      "Epoch 29/100\n",
      "1400/1400 [==============================] - 2s 1ms/step - loss: 0.1672 - accuracy: 0.9582\n",
      "Epoch 30/100\n",
      "1400/1400 [==============================] - 2s 1ms/step - loss: 0.1697 - accuracy: 0.9573\n",
      "Epoch 31/100\n",
      "1400/1400 [==============================] - 2s 1ms/step - loss: 0.1643 - accuracy: 0.9592\n",
      "Epoch 32/100\n",
      "1400/1400 [==============================] - 2s 1ms/step - loss: 0.1683 - accuracy: 0.9575\n",
      "Epoch 33/100\n",
      "1400/1400 [==============================] - 2s 1ms/step - loss: 0.1643 - accuracy: 0.9590\n",
      "Epoch 34/100\n",
      "1400/1400 [==============================] - 2s 1ms/step - loss: 0.1617 - accuracy: 0.9599\n",
      "Epoch 35/100\n",
      "1400/1400 [==============================] - 2s 1ms/step - loss: 0.1640 - accuracy: 0.9589\n",
      "Epoch 36/100\n",
      "1400/1400 [==============================] - 2s 1ms/step - loss: 0.1647 - accuracy: 0.9586\n",
      "Epoch 37/100\n",
      "1400/1400 [==============================] - 2s 1ms/step - loss: 0.1647 - accuracy: 0.9587\n",
      "Epoch 38/100\n",
      "1400/1400 [==============================] - 2s 1ms/step - loss: 0.1601 - accuracy: 0.9601\n",
      "Epoch 39/100\n",
      "1400/1400 [==============================] - 2s 1ms/step - loss: 0.1646 - accuracy: 0.9587\n",
      "Epoch 40/100\n",
      "1400/1400 [==============================] - 2s 1ms/step - loss: 0.1620 - accuracy: 0.9595\n",
      "Epoch 41/100\n",
      "1400/1400 [==============================] - 2s 1ms/step - loss: 0.1593 - accuracy: 0.9605\n",
      "Epoch 42/100\n",
      "1400/1400 [==============================] - 2s 1ms/step - loss: 0.1627 - accuracy: 0.9592\n",
      "Epoch 43/100\n",
      "1400/1400 [==============================] - 2s 1ms/step - loss: 0.1656 - accuracy: 0.9579\n",
      "Epoch 44/100\n",
      "1400/1400 [==============================] - 2s 1ms/step - loss: 0.1614 - accuracy: 0.9596\n",
      "Epoch 45/100\n",
      "1400/1400 [==============================] - 2s 1ms/step - loss: 0.1644 - accuracy: 0.9586\n",
      "Epoch 46/100\n",
      "1400/1400 [==============================] - 2s 1ms/step - loss: 0.1586 - accuracy: 0.9605\n",
      "Epoch 47/100\n",
      "1400/1400 [==============================] - 2s 1ms/step - loss: 0.1612 - accuracy: 0.9595\n",
      "Epoch 48/100\n",
      "1400/1400 [==============================] - 2s 1ms/step - loss: 0.1661 - accuracy: 0.9579\n",
      "Epoch 49/100\n",
      "1400/1400 [==============================] - 2s 1ms/step - loss: 0.1599 - accuracy: 0.9597\n",
      "Epoch 50/100\n",
      "1400/1400 [==============================] - 2s 1ms/step - loss: 0.1610 - accuracy: 0.9596\n",
      "Epoch 51/100\n",
      "1400/1400 [==============================] - 2s 1ms/step - loss: 0.1631 - accuracy: 0.9591\n",
      "Epoch 52/100\n",
      "1400/1400 [==============================] - 2s 1ms/step - loss: 0.1670 - accuracy: 0.9575\n",
      "Epoch 53/100\n",
      "1400/1400 [==============================] - 2s 1ms/step - loss: 0.1598 - accuracy: 0.9598\n",
      "Epoch 54/100\n",
      "1400/1400 [==============================] - 2s 1ms/step - loss: 0.1619 - accuracy: 0.9590\n",
      "Epoch 55/100\n",
      "1400/1400 [==============================] - 2s 1ms/step - loss: 0.1598 - accuracy: 0.9602\n",
      "Epoch 56/100\n",
      "1400/1400 [==============================] - 2s 1ms/step - loss: 0.1581 - accuracy: 0.9604\n",
      "Epoch 57/100\n",
      "1400/1400 [==============================] - 2s 1ms/step - loss: 0.1631 - accuracy: 0.9589\n",
      "Epoch 58/100\n",
      "1400/1400 [==============================] - 2s 1ms/step - loss: 0.1648 - accuracy: 0.9583\n",
      "Epoch 59/100\n",
      "1400/1400 [==============================] - 2s 1ms/step - loss: 0.1678 - accuracy: 0.9571\n",
      "Epoch 60/100\n",
      "1400/1400 [==============================] - 2s 1ms/step - loss: 0.1639 - accuracy: 0.9587\n",
      "Epoch 61/100\n",
      "1400/1400 [==============================] - 2s 1ms/step - loss: 0.1607 - accuracy: 0.9595\n",
      "Epoch 62/100\n",
      "1400/1400 [==============================] - 2s 1ms/step - loss: 0.1605 - accuracy: 0.9597\n",
      "Epoch 63/100\n",
      "1400/1400 [==============================] - 2s 1ms/step - loss: 0.1608 - accuracy: 0.9596\n",
      "Epoch 64/100\n",
      "1400/1400 [==============================] - 2s 1ms/step - loss: 0.1637 - accuracy: 0.9585\n",
      "Epoch 65/100\n",
      "1400/1400 [==============================] - 2s 1ms/step - loss: 0.1616 - accuracy: 0.9593\n",
      "Epoch 66/100\n",
      "1400/1400 [==============================] - 2s 1ms/step - loss: 0.1630 - accuracy: 0.9588\n",
      "Epoch 67/100\n",
      "1400/1400 [==============================] - 2s 1ms/step - loss: 0.1618 - accuracy: 0.9592\n",
      "Epoch 68/100\n",
      "1400/1400 [==============================] - 2s 1ms/step - loss: 0.1617 - accuracy: 0.9589\n",
      "Epoch 69/100\n",
      "1400/1400 [==============================] - 2s 1ms/step - loss: 0.1607 - accuracy: 0.9597\n",
      "Epoch 70/100\n",
      "1400/1400 [==============================] - 2s 1ms/step - loss: 0.1644 - accuracy: 0.9585\n",
      "Epoch 71/100\n",
      "1400/1400 [==============================] - 2s 1ms/step - loss: 0.1668 - accuracy: 0.9572\n",
      "Epoch 72/100\n",
      "1400/1400 [==============================] - 2s 1ms/step - loss: 0.1681 - accuracy: 0.9572\n",
      "Epoch 73/100\n",
      "1400/1400 [==============================] - 2s 1ms/step - loss: 0.1652 - accuracy: 0.9581\n",
      "Epoch 74/100\n",
      "1400/1400 [==============================] - 2s 1ms/step - loss: 0.1580 - accuracy: 0.9602\n",
      "Epoch 75/100\n",
      "1400/1400 [==============================] - 2s 1ms/step - loss: 0.1668 - accuracy: 0.9574\n",
      "Epoch 76/100\n",
      "1400/1400 [==============================] - 2s 1ms/step - loss: 0.1623 - accuracy: 0.9590\n",
      "Epoch 77/100\n",
      "1400/1400 [==============================] - 2s 1ms/step - loss: 0.1660 - accuracy: 0.9578\n",
      "Epoch 78/100\n",
      "1400/1400 [==============================] - 2s 1ms/step - loss: 0.1605 - accuracy: 0.9599\n",
      "Epoch 79/100\n",
      "1400/1400 [==============================] - 2s 1ms/step - loss: 0.1644 - accuracy: 0.9582\n",
      "Epoch 80/100\n",
      "1400/1400 [==============================] - 2s 1ms/step - loss: 0.1567 - accuracy: 0.9607\n",
      "Epoch 81/100\n",
      "1400/1400 [==============================] - 2s 1ms/step - loss: 0.1607 - accuracy: 0.9596\n",
      "Epoch 82/100\n",
      "1400/1400 [==============================] - 2s 1ms/step - loss: 0.1624 - accuracy: 0.9589\n",
      "Epoch 83/100\n",
      "1400/1400 [==============================] - 2s 1ms/step - loss: 0.1619 - accuracy: 0.9593\n",
      "Epoch 84/100\n",
      "1400/1400 [==============================] - 2s 1ms/step - loss: 0.1632 - accuracy: 0.9584\n",
      "Epoch 85/100\n",
      "1400/1400 [==============================] - 2s 1ms/step - loss: 0.1639 - accuracy: 0.9583\n",
      "Epoch 86/100\n",
      "1400/1400 [==============================] - 2s 1ms/step - loss: 0.1622 - accuracy: 0.9590\n",
      "Epoch 87/100\n",
      "1400/1400 [==============================] - 2s 1ms/step - loss: 0.1605 - accuracy: 0.9596\n",
      "Epoch 88/100\n",
      "1400/1400 [==============================] - 2s 1ms/step - loss: 0.1609 - accuracy: 0.9592\n",
      "Epoch 89/100\n",
      "1400/1400 [==============================] - 2s 1ms/step - loss: 0.1610 - accuracy: 0.9593\n",
      "Epoch 90/100\n",
      "1400/1400 [==============================] - 2s 1ms/step - loss: 0.1599 - accuracy: 0.9601\n",
      "Epoch 91/100\n",
      "1400/1400 [==============================] - 2s 1ms/step - loss: 0.1602 - accuracy: 0.9594\n",
      "Epoch 92/100\n",
      "1400/1400 [==============================] - 2s 1ms/step - loss: 0.1670 - accuracy: 0.9575\n",
      "Epoch 93/100\n",
      "1400/1400 [==============================] - 2s 1ms/step - loss: 0.1630 - accuracy: 0.9590\n",
      "Epoch 94/100\n",
      "1400/1400 [==============================] - 2s 1ms/step - loss: 0.1603 - accuracy: 0.9593\n",
      "Epoch 95/100\n",
      "1400/1400 [==============================] - 2s 1ms/step - loss: 0.1603 - accuracy: 0.9593\n",
      "Epoch 96/100\n",
      "1400/1400 [==============================] - 2s 1ms/step - loss: 0.1627 - accuracy: 0.9588\n",
      "Epoch 97/100\n",
      "1400/1400 [==============================] - 2s 2ms/step - loss: 0.1605 - accuracy: 0.9598\n",
      "Epoch 98/100\n",
      "1400/1400 [==============================] - 3s 2ms/step - loss: 0.1609 - accuracy: 0.9594\n",
      "Epoch 99/100\n",
      "1400/1400 [==============================] - 3s 2ms/step - loss: 0.1617 - accuracy: 0.9589\n",
      "Epoch 100/100\n",
      "1400/1400 [==============================] - 4s 3ms/step - loss: 0.1620 - accuracy: 0.9589\n"
     ]
    },
    {
     "data": {
      "text/plain": [
       "<tensorflow.python.keras.callbacks.History at 0x7f1c1a7d7630>"
      ]
     },
     "execution_count": 28,
     "metadata": {
      "tags": []
     },
     "output_type": "execute_result"
    }
   ],
   "source": [
    "import tensorflow as tf\r\n",
    "\r\n",
    "\r\n",
    "\r\n",
    "# Part 2 - Building the ANN\r\n",
    "\r\n",
    "# Initializing the ANN\r\n",
    "ann = tf.keras.models.Sequential()\r\n",
    "\r\n",
    "# Adding the input layer and the first hidden layer\r\n",
    "ann.add(tf.keras.layers.Dense(units=6, activation='relu'))\r\n",
    "\r\n",
    "# Adding the second hidden layer\r\n",
    "ann.add(tf.keras.layers.Dense(units=6, activation='relu'))\r\n",
    "\r\n",
    "# Adding the output layer\r\n",
    "ann.add(tf.keras.layers.Dense(units=1, activation='sigmoid'))\r\n",
    "\r\n",
    "# Part 3 - Training the ANN\r\n",
    "\r\n",
    "# Compiling the ANN\r\n",
    "ann.compile(optimizer = 'adam', loss = 'binary_crossentropy', metrics = ['accuracy'])\r\n",
    "\r\n",
    "# Training the ANN on the Training set\r\n",
    "ann.fit(X_train_pca, y_train, batch_size = 32, epochs = 100)\r\n"
   ]
  },
  {
   "cell_type": "code",
   "execution_count": 30,
   "metadata": {
    "colab": {
     "base_uri": "https://localhost:8080/"
    },
    "id": "MaTPguKLfwyX",
    "outputId": "1e325cab-5d5d-4072-fcfb-3f633e34bc87"
   },
   "outputs": [
    {
     "name": "stderr",
     "output_type": "stream",
     "text": [
      "/usr/local/lib/python3.6/dist-packages/tensorflow/python/keras/engine/sequential.py:425: UserWarning: `model.predict_proba()` is deprecated and will be removed after 2021-01-01. Please use `model.predict()` instead.\n",
      "  warnings.warn('`model.predict_proba()` is deprecated and '\n"
     ]
    },
    {
     "data": {
      "text/plain": [
       "0.6447419849494196"
      ]
     },
     "execution_count": 30,
     "metadata": {
      "tags": []
     },
     "output_type": "execute_result"
    }
   ],
   "source": [
    "from sklearn import metrics\r\n",
    "y_probs_ann = ann.predict_proba(X_test_pca)\r\n",
    "y_probs_ann = y_probs_ann[:,]\r\n",
    "y_pred_ann = [1 if i > 0.032 else 0 for i in y_probs_ann]\r\n",
    "fpr, tpr, thresholds = metrics.roc_curve(y_test, y_pred_ann, pos_label=1)\r\n",
    "metrics.auc(fpr, tpr)\r\n",
    "\r\n"
   ]
  },
  {
   "cell_type": "code",
   "execution_count": null,
   "metadata": {
    "id": "m1Jv5hL-eaXQ"
   },
   "outputs": [],
   "source": [
    "test1= pd.read_csv(\"test.csv\")\n",
    "\n",
    "lists = [list(test1[\"musteri\"]),y_pred_ann]\n",
    "df =  pd.DataFrame({\"musteri\":list(test1[\"musteri\"]),\"target\":y_pred_ann})\n",
    "df.to_csv('results_ann.csv', header = True,index=False)"
   ]
  },
  {
   "cell_type": "code",
   "execution_count": null,
   "metadata": {
    "id": "VHnULtuiiZyt"
   },
   "outputs": [],
   "source": []
  }
 ],
 "metadata": {
  "colab": {
   "collapsed_sections": [],
   "name": "baris2.ipynb",
   "provenance": [],
   "toc_visible": true
  },
  "kernelspec": {
   "display_name": "Python 3",
   "language": "python",
   "name": "python3"
  },
  "language_info": {
   "codemirror_mode": {
    "name": "ipython",
    "version": 3
   },
   "file_extension": ".py",
   "mimetype": "text/x-python",
   "name": "python",
   "nbconvert_exporter": "python",
   "pygments_lexer": "ipython3",
   "version": "3.8.3"
  }
 },
 "nbformat": 4,
 "nbformat_minor": 4
}
