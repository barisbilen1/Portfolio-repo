{
  "nbformat": 4,
  "nbformat_minor": 0,
  "metadata": {
    "colab": {
      "name": "part0-data preparation(python)(alibaris).ipynb",
      "provenance": []
    },
    "kernelspec": {
      "display_name": "Python 3",
      "name": "python3"
    },
    "language_info": {
      "name": "python"
    }
  },
  "cells": [
    {
      "cell_type": "code",
      "metadata": {
        "id": "J3nIi1COBnMA"
      },
      "source": [
        "import numpy as np\n",
        "import matplotlib.pyplot as plt\n",
        "import pandas as pd"
      ],
      "execution_count": null,
      "outputs": []
    },
    {
      "cell_type": "code",
      "metadata": {
        "id": "891umHGHCRlP"
      },
      "source": [
        "data_1a = pd.read_csv('assignment4.1a.csv',parse_dates=True,index_col='Date')"
      ],
      "execution_count": null,
      "outputs": []
    },
    {
      "cell_type": "code",
      "metadata": {
        "id": "vNkTCi7fDTlJ"
      },
      "source": [
        "data_1a.head(3)"
      ],
      "execution_count": null,
      "outputs": []
    },
    {
      "cell_type": "code",
      "metadata": {
        "id": "PhOBDtq0ECIA"
      },
      "source": [
        "promotion_dates = pd.read_csv('PromotionDates.csv',index_col='Period') "
      ],
      "execution_count": null,
      "outputs": []
    },
    {
      "cell_type": "code",
      "metadata": {
        "id": "VaeIRbawFqE-",
        "colab": {
          "base_uri": "https://localhost:8080/",
          "height": 175
        },
        "outputId": "20ca8563-0528-4a55-c2c5-d41e1d0e4184"
      },
      "source": [
        "promotion_dates.head(3)"
      ],
      "execution_count": null,
      "outputs": [
        {
          "output_type": "execute_result",
          "data": {
            "text/html": [
              "<div>\n",
              "<style scoped>\n",
              "    .dataframe tbody tr th:only-of-type {\n",
              "        vertical-align: middle;\n",
              "    }\n",
              "\n",
              "    .dataframe tbody tr th {\n",
              "        vertical-align: top;\n",
              "    }\n",
              "\n",
              "    .dataframe thead th {\n",
              "        text-align: right;\n",
              "    }\n",
              "</style>\n",
              "<table border=\"1\" class=\"dataframe\">\n",
              "  <thead>\n",
              "    <tr style=\"text-align: right;\">\n",
              "      <th></th>\n",
              "      <th>StartDate</th>\n",
              "      <th>EndDate</th>\n",
              "    </tr>\n",
              "    <tr>\n",
              "      <th>Period</th>\n",
              "      <th></th>\n",
              "      <th></th>\n",
              "    </tr>\n",
              "  </thead>\n",
              "  <tbody>\n",
              "    <tr>\n",
              "      <th>Promo1</th>\n",
              "      <td>2015-02-10</td>\n",
              "      <td>2015-02-17</td>\n",
              "    </tr>\n",
              "    <tr>\n",
              "      <th>Promo2</th>\n",
              "      <td>2015-03-15</td>\n",
              "      <td>2015-03-22</td>\n",
              "    </tr>\n",
              "    <tr>\n",
              "      <th>Promo3</th>\n",
              "      <td>2015-05-24</td>\n",
              "      <td>2015-06-01</td>\n",
              "    </tr>\n",
              "  </tbody>\n",
              "</table>\n",
              "</div>"
            ],
            "text/plain": [
              "        StartDate    EndDate\n",
              "Period                      \n",
              "Promo1 2015-02-10 2015-02-17\n",
              "Promo2 2015-03-15 2015-03-22\n",
              "Promo3 2015-05-24 2015-06-01"
            ]
          },
          "metadata": {
            "tags": []
          },
          "execution_count": 12
        }
      ]
    },
    {
      "cell_type": "code",
      "metadata": {
        "id": "VQ-5ouSuIUK9"
      },
      "source": [
        "promotion_dates['StartDate']=pd.to_datetime(promotion_dates['StartDate'])\n",
        "promotion_dates['EndDate']=pd.to_datetime(promotion_dates['EndDate']) #converting dates to YYYY/MM/DD just like in data_1a\n"
      ],
      "execution_count": null,
      "outputs": []
    },
    {
      "cell_type": "code",
      "metadata": {
        "colab": {
          "base_uri": "https://localhost:8080/",
          "height": 112
        },
        "id": "BKF_m-o-KTbQ",
        "outputId": "0152f133-c649-4650-dc4b-22d3a12da294"
      },
      "source": [
        "promotion_dates.head(1) # check if is ok, we see that it is now YYYY/MM/DD"
      ],
      "execution_count": null,
      "outputs": [
        {
          "output_type": "execute_result",
          "data": {
            "text/html": [
              "<div>\n",
              "<style scoped>\n",
              "    .dataframe tbody tr th:only-of-type {\n",
              "        vertical-align: middle;\n",
              "    }\n",
              "\n",
              "    .dataframe tbody tr th {\n",
              "        vertical-align: top;\n",
              "    }\n",
              "\n",
              "    .dataframe thead th {\n",
              "        text-align: right;\n",
              "    }\n",
              "</style>\n",
              "<table border=\"1\" class=\"dataframe\">\n",
              "  <thead>\n",
              "    <tr style=\"text-align: right;\">\n",
              "      <th></th>\n",
              "      <th>StartDate</th>\n",
              "      <th>EndDate</th>\n",
              "    </tr>\n",
              "    <tr>\n",
              "      <th>Period</th>\n",
              "      <th></th>\n",
              "      <th></th>\n",
              "    </tr>\n",
              "  </thead>\n",
              "  <tbody>\n",
              "    <tr>\n",
              "      <th>Promo1</th>\n",
              "      <td>2015-02-10</td>\n",
              "      <td>2015-02-17</td>\n",
              "    </tr>\n",
              "  </tbody>\n",
              "</table>\n",
              "</div>"
            ],
            "text/plain": [
              "        StartDate    EndDate\n",
              "Period                      \n",
              "Promo1 2015-02-10 2015-02-17"
            ]
          },
          "metadata": {
            "tags": []
          },
          "execution_count": 7
        }
      ]
    },
    {
      "cell_type": "code",
      "metadata": {
        "colab": {
          "base_uri": "https://localhost:8080/",
          "height": 206
        },
        "id": "PmDYxxJXT_ia",
        "outputId": "5e84cb39-a3d8-4e78-e023-c710a90818a5"
      },
      "source": [
        "promotion_dates_firstfour = promotion_dates[:4]  # I need to use the first 4 of them as suggested in the assignment\n",
        "promotion_dates_firstfour.head()"
      ],
      "execution_count": null,
      "outputs": [
        {
          "output_type": "execute_result",
          "data": {
            "text/html": [
              "<div>\n",
              "<style scoped>\n",
              "    .dataframe tbody tr th:only-of-type {\n",
              "        vertical-align: middle;\n",
              "    }\n",
              "\n",
              "    .dataframe tbody tr th {\n",
              "        vertical-align: top;\n",
              "    }\n",
              "\n",
              "    .dataframe thead th {\n",
              "        text-align: right;\n",
              "    }\n",
              "</style>\n",
              "<table border=\"1\" class=\"dataframe\">\n",
              "  <thead>\n",
              "    <tr style=\"text-align: right;\">\n",
              "      <th></th>\n",
              "      <th>StartDate</th>\n",
              "      <th>EndDate</th>\n",
              "    </tr>\n",
              "    <tr>\n",
              "      <th>Period</th>\n",
              "      <th></th>\n",
              "      <th></th>\n",
              "    </tr>\n",
              "  </thead>\n",
              "  <tbody>\n",
              "    <tr>\n",
              "      <th>Promo1</th>\n",
              "      <td>2015-02-10</td>\n",
              "      <td>2015-02-17</td>\n",
              "    </tr>\n",
              "    <tr>\n",
              "      <th>Promo2</th>\n",
              "      <td>2015-03-15</td>\n",
              "      <td>2015-03-22</td>\n",
              "    </tr>\n",
              "    <tr>\n",
              "      <th>Promo3</th>\n",
              "      <td>2015-05-24</td>\n",
              "      <td>2015-06-01</td>\n",
              "    </tr>\n",
              "    <tr>\n",
              "      <th>Promo4</th>\n",
              "      <td>2015-06-21</td>\n",
              "      <td>2015-06-28</td>\n",
              "    </tr>\n",
              "  </tbody>\n",
              "</table>\n",
              "</div>"
            ],
            "text/plain": [
              "        StartDate    EndDate\n",
              "Period                      \n",
              "Promo1 2015-02-10 2015-02-17\n",
              "Promo2 2015-03-15 2015-03-22\n",
              "Promo3 2015-05-24 2015-06-01\n",
              "Promo4 2015-06-21 2015-06-28"
            ]
          },
          "metadata": {
            "tags": []
          },
          "execution_count": 8
        }
      ]
    },
    {
      "cell_type": "code",
      "metadata": {
        "colab": {
          "base_uri": "https://localhost:8080/"
        },
        "id": "YLbPxpXJG8T_",
        "outputId": "991bacab-3f60-4b6c-fb81-6232fbaccfff"
      },
      "source": [
        "data_1a.isnull().values.sum() #checking if there is NA values in data_1a"
      ],
      "execution_count": null,
      "outputs": [
        {
          "output_type": "execute_result",
          "data": {
            "text/plain": [
              "0"
            ]
          },
          "metadata": {
            "tags": []
          },
          "execution_count": 19
        }
      ]
    },
    {
      "cell_type": "code",
      "metadata": {
        "colab": {
          "base_uri": "https://localhost:8080/",
          "height": 300
        },
        "id": "g-U0f-V2Ncz_",
        "outputId": "d42d2150-99c3-4c70-94bc-cfdf64c7ff79"
      },
      "source": [
        "data_1a.describe() #just looking into the data"
      ],
      "execution_count": null,
      "outputs": [
        {
          "output_type": "execute_result",
          "data": {
            "text/html": [
              "<div>\n",
              "<style scoped>\n",
              "    .dataframe tbody tr th:only-of-type {\n",
              "        vertical-align: middle;\n",
              "    }\n",
              "\n",
              "    .dataframe tbody tr th {\n",
              "        vertical-align: top;\n",
              "    }\n",
              "\n",
              "    .dataframe thead th {\n",
              "        text-align: right;\n",
              "    }\n",
              "</style>\n",
              "<table border=\"1\" class=\"dataframe\">\n",
              "  <thead>\n",
              "    <tr style=\"text-align: right;\">\n",
              "      <th></th>\n",
              "      <th>StoreCode</th>\n",
              "      <th>ProductCode</th>\n",
              "      <th>SalesQuantity</th>\n",
              "    </tr>\n",
              "  </thead>\n",
              "  <tbody>\n",
              "    <tr>\n",
              "      <th>count</th>\n",
              "      <td>1.873618e+06</td>\n",
              "      <td>1.873618e+06</td>\n",
              "      <td>1.873618e+06</td>\n",
              "    </tr>\n",
              "    <tr>\n",
              "      <th>mean</th>\n",
              "      <td>1.711288e+02</td>\n",
              "      <td>1.663533e+02</td>\n",
              "      <td>2.246632e+00</td>\n",
              "    </tr>\n",
              "    <tr>\n",
              "      <th>std</th>\n",
              "      <td>1.014606e+02</td>\n",
              "      <td>7.773282e+01</td>\n",
              "      <td>5.028994e+00</td>\n",
              "    </tr>\n",
              "    <tr>\n",
              "      <th>min</th>\n",
              "      <td>1.000000e+00</td>\n",
              "      <td>1.000000e+00</td>\n",
              "      <td>-6.000000e+01</td>\n",
              "    </tr>\n",
              "    <tr>\n",
              "      <th>25%</th>\n",
              "      <td>8.100000e+01</td>\n",
              "      <td>1.050000e+02</td>\n",
              "      <td>0.000000e+00</td>\n",
              "    </tr>\n",
              "    <tr>\n",
              "      <th>50%</th>\n",
              "      <td>1.700000e+02</td>\n",
              "      <td>1.730000e+02</td>\n",
              "      <td>1.000000e+00</td>\n",
              "    </tr>\n",
              "    <tr>\n",
              "      <th>75%</th>\n",
              "      <td>2.640000e+02</td>\n",
              "      <td>2.190000e+02</td>\n",
              "      <td>2.000000e+00</td>\n",
              "    </tr>\n",
              "    <tr>\n",
              "      <th>max</th>\n",
              "      <td>3.400000e+02</td>\n",
              "      <td>3.170000e+02</td>\n",
              "      <td>9.120000e+02</td>\n",
              "    </tr>\n",
              "  </tbody>\n",
              "</table>\n",
              "</div>"
            ],
            "text/plain": [
              "          StoreCode   ProductCode  SalesQuantity\n",
              "count  1.873618e+06  1.873618e+06   1.873618e+06\n",
              "mean   1.711288e+02  1.663533e+02   2.246632e+00\n",
              "std    1.014606e+02  7.773282e+01   5.028994e+00\n",
              "min    1.000000e+00  1.000000e+00  -6.000000e+01\n",
              "25%    8.100000e+01  1.050000e+02   0.000000e+00\n",
              "50%    1.700000e+02  1.730000e+02   1.000000e+00\n",
              "75%    2.640000e+02  2.190000e+02   2.000000e+00\n",
              "max    3.400000e+02  3.170000e+02   9.120000e+02"
            ]
          },
          "metadata": {
            "tags": []
          },
          "execution_count": 20
        }
      ]
    },
    {
      "cell_type": "code",
      "metadata": {
        "colab": {
          "base_uri": "https://localhost:8080/"
        },
        "id": "nd8ua_CxOebf",
        "outputId": "78d69c1a-7e6a-4e1b-824f-5d4171376b01"
      },
      "source": [
        "print(max(data_1a['StoreCode']))\n",
        "print(max(data_1a['ProductCode']))\n",
        "\n",
        "store_count = len(pd.unique(data_1a['StoreCode']))  \n",
        "print(\"Number of distinct stores :\",store_count)\n",
        "\n",
        "product_count = len(pd.unique(data_1a['ProductCode']))  \n",
        "print(\"Number of distinct products :\",product_count)"
      ],
      "execution_count": null,
      "outputs": [
        {
          "output_type": "stream",
          "text": [
            "340\n",
            "317\n",
            "Number of distinct stores : 340\n",
            "Number of distinct products : 317\n"
          ],
          "name": "stdout"
        }
      ]
    },
    {
      "cell_type": "code",
      "metadata": {
        "id": "XhBwmXM6v8EU"
      },
      "source": [
        "sales_with_promo1_date = data_1a.loc['2015-2-10':'2015-2-17']  #slicing the dataframe with respect to promotion periods\n",
        "sales_with_promo2_date = data_1a.loc['2015-3-15':'2015-3-22']\n",
        "sales_with_promo3_date = data_1a.loc['2015-5-24':'2015-6-1']  #ONLY DATE INDICES (will be used a few steps later)\n",
        "sales_with_promo4_date = data_1a.loc['2015-6-21':'2015-6-28'] #their type is to be kept same as the data_1a (same column count)"
      ],
      "execution_count": null,
      "outputs": []
    },
    {
      "cell_type": "code",
      "metadata": {
        "id": "J8GnzEbZRIcZ"
      },
      "source": [
        "sales_with_promo1 = data_1a.loc['2015-2-10':'2015-2-17']  #slicing the dataframe with respect to promotion periods\n",
        "sales_with_promo2 = data_1a.loc['2015-3-15':'2015-3-22']  \n",
        "sales_with_promo3 = data_1a.loc['2015-5-24':'2015-6-1']\n",
        "sales_with_promo4 = data_1a.loc['2015-6-21':'2015-6-28']  #this code chunk is for adding 'Promotion' column to them"
      ],
      "execution_count": null,
      "outputs": []
    },
    {
      "cell_type": "code",
      "metadata": {
        "id": "i8HsWgnUBVN3"
      },
      "source": [
        "sales_with_promo1.insert(3, \"Promotion\", 'Promo1', True) #adding 'Promotion' column to slices\n",
        "sales_with_promo2.insert(3, \"Promotion\", 'Promo2', True)\n",
        "sales_with_promo3.insert(3, \"Promotion\", 'Promo3', True)\n",
        "sales_with_promo4.insert(3, \"Promotion\", 'Promo4', True)"
      ],
      "execution_count": null,
      "outputs": []
    },
    {
      "cell_type": "code",
      "metadata": {
        "id": "bCL1qwSiFwjk",
        "colab": {
          "base_uri": "https://localhost:8080/",
          "height": 143
        },
        "outputId": "a14501dc-6abd-4e4d-fd56-a743168218f7"
      },
      "source": [
        "sales_with_promo1.head(2) #checking if they are ok"
      ],
      "execution_count": null,
      "outputs": [
        {
          "output_type": "execute_result",
          "data": {
            "text/html": [
              "<div>\n",
              "<style scoped>\n",
              "    .dataframe tbody tr th:only-of-type {\n",
              "        vertical-align: middle;\n",
              "    }\n",
              "\n",
              "    .dataframe tbody tr th {\n",
              "        vertical-align: top;\n",
              "    }\n",
              "\n",
              "    .dataframe thead th {\n",
              "        text-align: right;\n",
              "    }\n",
              "</style>\n",
              "<table border=\"1\" class=\"dataframe\">\n",
              "  <thead>\n",
              "    <tr style=\"text-align: right;\">\n",
              "      <th></th>\n",
              "      <th>StoreCode</th>\n",
              "      <th>ProductCode</th>\n",
              "      <th>SalesQuantity</th>\n",
              "      <th>Promotion</th>\n",
              "    </tr>\n",
              "    <tr>\n",
              "      <th>Date</th>\n",
              "      <th></th>\n",
              "      <th></th>\n",
              "      <th></th>\n",
              "      <th></th>\n",
              "    </tr>\n",
              "  </thead>\n",
              "  <tbody>\n",
              "    <tr>\n",
              "      <th>2015-02-10</th>\n",
              "      <td>6</td>\n",
              "      <td>9</td>\n",
              "      <td>0</td>\n",
              "      <td>Promo1</td>\n",
              "    </tr>\n",
              "    <tr>\n",
              "      <th>2015-02-10</th>\n",
              "      <td>14</td>\n",
              "      <td>9</td>\n",
              "      <td>0</td>\n",
              "      <td>Promo1</td>\n",
              "    </tr>\n",
              "  </tbody>\n",
              "</table>\n",
              "</div>"
            ],
            "text/plain": [
              "            StoreCode  ProductCode  SalesQuantity Promotion\n",
              "Date                                                       \n",
              "2015-02-10          6            9              0    Promo1\n",
              "2015-02-10         14            9              0    Promo1"
            ]
          },
          "metadata": {
            "tags": []
          },
          "execution_count": 134
        }
      ]
    },
    {
      "cell_type": "code",
      "metadata": {
        "id": "_CNEH70bLIo3",
        "colab": {
          "base_uri": "https://localhost:8080/",
          "height": 143
        },
        "outputId": "79e9c00d-ff0d-4739-e441-7da1d1389b2f"
      },
      "source": [
        "sales_with_promo2.tail(2)"
      ],
      "execution_count": null,
      "outputs": [
        {
          "output_type": "execute_result",
          "data": {
            "text/html": [
              "<div>\n",
              "<style scoped>\n",
              "    .dataframe tbody tr th:only-of-type {\n",
              "        vertical-align: middle;\n",
              "    }\n",
              "\n",
              "    .dataframe tbody tr th {\n",
              "        vertical-align: top;\n",
              "    }\n",
              "\n",
              "    .dataframe thead th {\n",
              "        text-align: right;\n",
              "    }\n",
              "</style>\n",
              "<table border=\"1\" class=\"dataframe\">\n",
              "  <thead>\n",
              "    <tr style=\"text-align: right;\">\n",
              "      <th></th>\n",
              "      <th>StoreCode</th>\n",
              "      <th>ProductCode</th>\n",
              "      <th>SalesQuantity</th>\n",
              "      <th>Promotion</th>\n",
              "    </tr>\n",
              "    <tr>\n",
              "      <th>Date</th>\n",
              "      <th></th>\n",
              "      <th></th>\n",
              "      <th></th>\n",
              "      <th></th>\n",
              "    </tr>\n",
              "  </thead>\n",
              "  <tbody>\n",
              "    <tr>\n",
              "      <th>2015-03-22</th>\n",
              "      <td>240</td>\n",
              "      <td>315</td>\n",
              "      <td>0</td>\n",
              "      <td>Promo2</td>\n",
              "    </tr>\n",
              "    <tr>\n",
              "      <th>2015-03-22</th>\n",
              "      <td>267</td>\n",
              "      <td>315</td>\n",
              "      <td>1</td>\n",
              "      <td>Promo2</td>\n",
              "    </tr>\n",
              "  </tbody>\n",
              "</table>\n",
              "</div>"
            ],
            "text/plain": [
              "            StoreCode  ProductCode  SalesQuantity Promotion\n",
              "Date                                                       \n",
              "2015-03-22        240          315              0    Promo2\n",
              "2015-03-22        267          315              1    Promo2"
            ]
          },
          "metadata": {
            "tags": []
          },
          "execution_count": 136
        }
      ]
    },
    {
      "cell_type": "code",
      "metadata": {
        "id": "X4Df4IhBLJC_",
        "colab": {
          "base_uri": "https://localhost:8080/",
          "height": 143
        },
        "outputId": "3159063f-a76a-4d7a-bf38-da4139d1c887"
      },
      "source": [
        "sales_with_promo3.head(2)"
      ],
      "execution_count": null,
      "outputs": [
        {
          "output_type": "execute_result",
          "data": {
            "text/html": [
              "<div>\n",
              "<style scoped>\n",
              "    .dataframe tbody tr th:only-of-type {\n",
              "        vertical-align: middle;\n",
              "    }\n",
              "\n",
              "    .dataframe tbody tr th {\n",
              "        vertical-align: top;\n",
              "    }\n",
              "\n",
              "    .dataframe thead th {\n",
              "        text-align: right;\n",
              "    }\n",
              "</style>\n",
              "<table border=\"1\" class=\"dataframe\">\n",
              "  <thead>\n",
              "    <tr style=\"text-align: right;\">\n",
              "      <th></th>\n",
              "      <th>StoreCode</th>\n",
              "      <th>ProductCode</th>\n",
              "      <th>SalesQuantity</th>\n",
              "      <th>Promotion</th>\n",
              "    </tr>\n",
              "    <tr>\n",
              "      <th>Date</th>\n",
              "      <th></th>\n",
              "      <th></th>\n",
              "      <th></th>\n",
              "      <th></th>\n",
              "    </tr>\n",
              "  </thead>\n",
              "  <tbody>\n",
              "    <tr>\n",
              "      <th>2015-05-24</th>\n",
              "      <td>2</td>\n",
              "      <td>9</td>\n",
              "      <td>0</td>\n",
              "      <td>Promo3</td>\n",
              "    </tr>\n",
              "    <tr>\n",
              "      <th>2015-05-24</th>\n",
              "      <td>35</td>\n",
              "      <td>9</td>\n",
              "      <td>0</td>\n",
              "      <td>Promo3</td>\n",
              "    </tr>\n",
              "  </tbody>\n",
              "</table>\n",
              "</div>"
            ],
            "text/plain": [
              "            StoreCode  ProductCode  SalesQuantity Promotion\n",
              "Date                                                       \n",
              "2015-05-24          2            9              0    Promo3\n",
              "2015-05-24         35            9              0    Promo3"
            ]
          },
          "metadata": {
            "tags": []
          },
          "execution_count": 138
        }
      ]
    },
    {
      "cell_type": "code",
      "metadata": {
        "id": "8Kn7LGfpGDeb"
      },
      "source": [
        "sales_with_promo4.tail(2)   #they are ok"
      ],
      "execution_count": null,
      "outputs": []
    },
    {
      "cell_type": "markdown",
      "metadata": {
        "id": "tJErCBruhrUC"
      },
      "source": [
        "Please ignore the below three code chunks. I tried to find an automatic way to obtain the sales with no promotions but I failed to find one. I did it manually. "
      ]
    },
    {
      "cell_type": "code",
      "metadata": {
        "id": "aUXxw2jGGGj2"
      },
      "source": [
        "#set (dataframe) differences to find the dates with no promotions offered\n",
        "\n",
        "#difference_between_maindata_and_promo1 = pd.concat([data_1a,sales_with_promo1_date]).drop_duplicates(keep=False)\n",
        "#difference_between_maindata_and_promo2 = pd.concat([data_1a,sales_with_promo2_date]).drop_duplicates(keep=False)\n",
        "#difference_between_maindata_and_promo3 = pd.concat([data_1a,sales_with_promo3_date]).drop_duplicates(keep=False)\n",
        "#difference_between_maindata_and_promo4 = pd.concat([data_1a,sales_with_promo4_date]).drop_duplicates(keep=False)"
      ],
      "execution_count": null,
      "outputs": []
    },
    {
      "cell_type": "code",
      "metadata": {
        "id": "6qpc3SFaMKDc"
      },
      "source": [
        "#frames = [difference_between_maindata_and_promo1,difference_between_maindata_and_promo2,\n",
        " #         difference_between_maindata_and_promo3,difference_between_maindata_and_promo4]\n",
        "\n",
        "#no_promotion_dates = pd.concat(frames)"
      ],
      "execution_count": null,
      "outputs": []
    },
    {
      "cell_type": "code",
      "metadata": {
        "id": "8JDwuZqGhlFb"
      },
      "source": [
        "#def dataframe_difference(df1: data_1a, df2: sales_with_promo1_date, which=None):\n",
        " #   \"\"\"Find rows which are different between two DataFrames.\"\"\"\n",
        "  #  comparison_df = df1.merge(\n",
        "   #     df2,\n",
        "    #    indicator=True,\n",
        "     #   how='outer'\n",
        "   # )\n",
        "    #if which is None:\n",
        "     #   diff_df1 = comparison_df[comparison_df['_merge'] != 'both']\n",
        "    #else:\n",
        "     #   diff_df1 = comparison_df[comparison_df['_merge'] == which]\n",
        "   \n",
        "    #return diff_df1"
      ],
      "execution_count": null,
      "outputs": []
    },
    {
      "cell_type": "code",
      "metadata": {
        "id": "1UhG_bvBgP0T"
      },
      "source": [
        "sales_with_nopromotion1_date = data_1a.loc['2015-1-1':'2015-2-9']    #I tried to find an easier/automatic way to do this\n",
        "sales_with_nopromotion2_date = data_1a.loc['2015-2-18':'2015-3-14']  #but I couldn't, I will do it manually.\n",
        "sales_with_nopromotion3_date = data_1a.loc['2015-3-23':'2015-5-23']\n",
        "sales_with_nopromotion4_date = data_1a.loc['2015-6-2':'2015-6-20']\n",
        "sales_with_nopromotion5_date = data_1a.loc['2015-6-29':'2015-8-3']  #sales with no promotion offered"
      ],
      "execution_count": null,
      "outputs": []
    },
    {
      "cell_type": "code",
      "metadata": {
        "id": "9zeMnpc6hLXH"
      },
      "source": [
        "sales_with_nopromotion1 = data_1a.loc['2015-1-1':'2015-2-9']    #this code chunk is to add 'NoPromotion' column\n",
        "sales_with_nopromotion2 = data_1a.loc['2015-2-18':'2015-3-14']\n",
        "sales_with_nopromotion3 = data_1a.loc['2015-3-23':'2015-5-23']\n",
        "sales_with_nopromotion4 = data_1a.loc['2015-6-2':'2015-6-20']\n",
        "sales_with_nopromotion5 = data_1a.loc['2015-6-29':]  #sales with no promotion offered"
      ],
      "execution_count": null,
      "outputs": []
    },
    {
      "cell_type": "code",
      "metadata": {
        "id": "tEfeMmbYhE_f"
      },
      "source": [
        "sales_with_nopromotion1.insert(3, \"Promotion\", 'NoPromotion', True)\n",
        "sales_with_nopromotion2.insert(3, \"Promotion\", 'NoPromotion', True)\n",
        "sales_with_nopromotion3.insert(3, \"Promotion\", 'NoPromotion', True)\n",
        "sales_with_nopromotion4.insert(3, \"Promotion\", 'NoPromotion', True)\n",
        "sales_with_nopromotion5.insert(3, \"Promotion\", 'NoPromotion', True)"
      ],
      "execution_count": null,
      "outputs": []
    },
    {
      "cell_type": "code",
      "metadata": {
        "colab": {
          "base_uri": "https://localhost:8080/",
          "height": 143
        },
        "id": "QjYx2MMkiJf4",
        "outputId": "4386c9f5-f72e-471a-9a8d-3f2b15a68743"
      },
      "source": [
        "sales_with_nopromotion1.head(2)   #quickly checking if all are ok"
      ],
      "execution_count": null,
      "outputs": [
        {
          "output_type": "execute_result",
          "data": {
            "text/html": [
              "<div>\n",
              "<style scoped>\n",
              "    .dataframe tbody tr th:only-of-type {\n",
              "        vertical-align: middle;\n",
              "    }\n",
              "\n",
              "    .dataframe tbody tr th {\n",
              "        vertical-align: top;\n",
              "    }\n",
              "\n",
              "    .dataframe thead th {\n",
              "        text-align: right;\n",
              "    }\n",
              "</style>\n",
              "<table border=\"1\" class=\"dataframe\">\n",
              "  <thead>\n",
              "    <tr style=\"text-align: right;\">\n",
              "      <th></th>\n",
              "      <th>StoreCode</th>\n",
              "      <th>ProductCode</th>\n",
              "      <th>SalesQuantity</th>\n",
              "      <th>Promotion</th>\n",
              "    </tr>\n",
              "    <tr>\n",
              "      <th>Date</th>\n",
              "      <th></th>\n",
              "      <th></th>\n",
              "      <th></th>\n",
              "      <th></th>\n",
              "    </tr>\n",
              "  </thead>\n",
              "  <tbody>\n",
              "    <tr>\n",
              "      <th>2015-07-31</th>\n",
              "      <td>261</td>\n",
              "      <td>315</td>\n",
              "      <td>1</td>\n",
              "      <td>NoPromotion</td>\n",
              "    </tr>\n",
              "    <tr>\n",
              "      <th>2015-07-31</th>\n",
              "      <td>295</td>\n",
              "      <td>315</td>\n",
              "      <td>1</td>\n",
              "      <td>NoPromotion</td>\n",
              "    </tr>\n",
              "  </tbody>\n",
              "</table>\n",
              "</div>"
            ],
            "text/plain": [
              "            StoreCode  ProductCode  SalesQuantity    Promotion\n",
              "Date                                                          \n",
              "2015-07-31        261          315              1  NoPromotion\n",
              "2015-07-31        295          315              1  NoPromotion"
            ]
          },
          "metadata": {
            "tags": []
          },
          "execution_count": 119
        }
      ]
    },
    {
      "cell_type": "code",
      "metadata": {
        "id": "QezWaXa0iRv8"
      },
      "source": [
        "sales_with_nopromotion2.head(2)"
      ],
      "execution_count": null,
      "outputs": []
    },
    {
      "cell_type": "code",
      "metadata": {
        "id": "csoZFEgviTHO"
      },
      "source": [
        "sales_with_nopromotion3.head(2)"
      ],
      "execution_count": null,
      "outputs": []
    },
    {
      "cell_type": "code",
      "metadata": {
        "id": "Da0cskeDiTVI"
      },
      "source": [
        "sales_with_nopromotion4.head(2)"
      ],
      "execution_count": null,
      "outputs": []
    },
    {
      "cell_type": "code",
      "metadata": {
        "colab": {
          "base_uri": "https://localhost:8080/"
        },
        "id": "90gXdjQGs4vK",
        "outputId": "8c65794c-706c-47f8-e280-b1ee4b8cdc28"
      },
      "source": [
        "len(data_1a)"
      ],
      "execution_count": null,
      "outputs": [
        {
          "output_type": "execute_result",
          "data": {
            "text/plain": [
              "1873618"
            ]
          },
          "metadata": {
            "tags": []
          },
          "execution_count": 130
        }
      ]
    },
    {
      "cell_type": "markdown",
      "metadata": {
        "id": "WBcrAsDZ23Ut"
      },
      "source": [
        "In the below two code chunks, I check whether the sales with promotions and no promotion add up to total sales(by checking row count of data frames)"
      ]
    },
    {
      "cell_type": "code",
      "metadata": {
        "colab": {
          "base_uri": "https://localhost:8080/"
        },
        "id": "tOjSD3bQtxsK",
        "outputId": "c2c7c90f-097a-44c0-c01e-f7fec9e16a8c"
      },
      "source": [
        "a1 = len(sales_with_nopromotion1) \n",
        "a2 = len(sales_with_nopromotion2) \n",
        "a3 = len(sales_with_nopromotion3) \n",
        "a4 = len(sales_with_nopromotion4) \n",
        "a5 = len(sales_with_nopromotion5) \n",
        "\n",
        "a = (a1+a2+a3+a4+a5)\n",
        "\n",
        "print(a)"
      ],
      "execution_count": null,
      "outputs": [
        {
          "output_type": "stream",
          "text": [
            "1562695\n"
          ],
          "name": "stdout"
        }
      ]
    },
    {
      "cell_type": "code",
      "metadata": {
        "colab": {
          "base_uri": "https://localhost:8080/"
        },
        "id": "FG8KcMV2t18S",
        "outputId": "d3321bc3-6d21-4d1d-d2c8-0fcb4b1c7e6a"
      },
      "source": [
        "b1 = len(sales_with_promo1)\n",
        "b2 = len(sales_with_promo2)\n",
        "b3 = len(sales_with_promo3)\n",
        "b4 = len(sales_with_promo4)\n",
        "\n",
        "b = b1+b2+b3+b4\n",
        "\n",
        "print(b)\n"
      ],
      "execution_count": null,
      "outputs": [
        {
          "output_type": "stream",
          "text": [
            "310923\n"
          ],
          "name": "stdout"
        }
      ]
    },
    {
      "cell_type": "code",
      "metadata": {
        "colab": {
          "base_uri": "https://localhost:8080/"
        },
        "id": "fftRcvxU3HlD",
        "outputId": "8d370e6e-7eec-4231-b7c0-1ecc1703bdd4"
      },
      "source": [
        "print(a+b)"
      ],
      "execution_count": null,
      "outputs": [
        {
          "output_type": "stream",
          "text": [
            "1873618\n"
          ],
          "name": "stdout"
        }
      ]
    },
    {
      "cell_type": "code",
      "metadata": {
        "colab": {
          "base_uri": "https://localhost:8080/"
        },
        "id": "wH1cBFCqtira",
        "outputId": "359eedbf-2eed-410c-cb2b-7ea5369df890"
      },
      "source": [
        "len(data_1a)"
      ],
      "execution_count": null,
      "outputs": [
        {
          "output_type": "execute_result",
          "data": {
            "text/plain": [
              "1873618"
            ]
          },
          "metadata": {
            "tags": []
          },
          "execution_count": 160
        }
      ]
    },
    {
      "cell_type": "markdown",
      "metadata": {
        "id": "7aUymaD73JpF"
      },
      "source": [
        " ***They match!*** It is time to merge them."
      ]
    },
    {
      "cell_type": "code",
      "metadata": {
        "id": "4MfU0SnjjirJ"
      },
      "source": [
        "data1 = pd.DataFrame()\n",
        "\n",
        "data1= data1.append(sales_with_nopromotion1)\n",
        "data1= data1.append(sales_with_promo1)\n",
        "data1= data1.append(sales_with_nopromotion2)\n",
        "data1= data1.append(sales_with_promo2)\n",
        "data1= data1.append(sales_with_nopromotion3)\n",
        "data1= data1.append(sales_with_promo3)\n",
        "data1= data1.append(sales_with_nopromotion4)\n",
        "data1= data1.append(sales_with_promo4)\n",
        "data1= data1.append(sales_with_nopromotion5)"
      ],
      "execution_count": null,
      "outputs": []
    },
    {
      "cell_type": "code",
      "metadata": {
        "colab": {
          "base_uri": "https://localhost:8080/"
        },
        "id": "Z_QJ4DlS44fa",
        "outputId": "fec4e8cf-c2c3-45e7-ba44-afe372910843"
      },
      "source": [
        "len(data1) #everything is ok, dimension is the same as our old 'assignment.1a'"
      ],
      "execution_count": null,
      "outputs": [
        {
          "output_type": "execute_result",
          "data": {
            "text/plain": [
              "1873618"
            ]
          },
          "metadata": {
            "tags": []
          },
          "execution_count": 188
        }
      ]
    },
    {
      "cell_type": "code",
      "metadata": {
        "colab": {
          "base_uri": "https://localhost:8080/"
        },
        "id": "CtuvnQlM5AJP",
        "outputId": "cacd906b-358e-4bbc-94b6-ee1d80e26fda"
      },
      "source": [
        "print(data1)"
      ],
      "execution_count": null,
      "outputs": [
        {
          "output_type": "stream",
          "text": [
            "            StoreCode  ProductCode  SalesQuantity    Promotion\n",
            "Date                                                          \n",
            "2015-01-01          8            9             -1  NoPromotion\n",
            "2015-01-01        131            9              1  NoPromotion\n",
            "2015-01-01        144            9              2  NoPromotion\n",
            "2015-01-01        203            9              2  NoPromotion\n",
            "2015-01-01        256            9              0  NoPromotion\n",
            "...               ...          ...            ...          ...\n",
            "2015-07-30        292          315              0  NoPromotion\n",
            "2015-07-31         12          315              1  NoPromotion\n",
            "2015-07-31        104          315              1  NoPromotion\n",
            "2015-07-31        261          315              1  NoPromotion\n",
            "2015-07-31        295          315              1  NoPromotion\n",
            "\n",
            "[1873618 rows x 4 columns]\n"
          ],
          "name": "stdout"
        }
      ]
    },
    {
      "cell_type": "markdown",
      "metadata": {
        "id": "cFwczH4a6WvP"
      },
      "source": [
        "Up to now, I have added Promotion information to the sales with respect to time period that the promotion is offered."
      ]
    },
    {
      "cell_type": "code",
      "metadata": {
        "id": "uo4QV_qp6jw0"
      },
      "source": [
        "data1.to_csv('data.csv')"
      ],
      "execution_count": null,
      "outputs": []
    },
    {
      "cell_type": "code",
      "metadata": {
        "colab": {
          "base_uri": "https://localhost:8080/",
          "height": 17
        },
        "id": "q4x26nkY-mND",
        "outputId": "04b1569c-d243-49d4-9458-885eb0a2cecc"
      },
      "source": [
        "from google.colab import files\n",
        "files.download('data.csv')"
      ],
      "execution_count": null,
      "outputs": [
        {
          "output_type": "display_data",
          "data": {
            "application/javascript": [
              "\n",
              "    async function download(id, filename, size) {\n",
              "      if (!google.colab.kernel.accessAllowed) {\n",
              "        return;\n",
              "      }\n",
              "      const div = document.createElement('div');\n",
              "      const label = document.createElement('label');\n",
              "      label.textContent = `Downloading \"${filename}\": `;\n",
              "      div.appendChild(label);\n",
              "      const progress = document.createElement('progress');\n",
              "      progress.max = size;\n",
              "      div.appendChild(progress);\n",
              "      document.body.appendChild(div);\n",
              "\n",
              "      const buffers = [];\n",
              "      let downloaded = 0;\n",
              "\n",
              "      const channel = await google.colab.kernel.comms.open(id);\n",
              "      // Send a message to notify the kernel that we're ready.\n",
              "      channel.send({})\n",
              "\n",
              "      for await (const message of channel.messages) {\n",
              "        // Send a message to notify the kernel that we're ready.\n",
              "        channel.send({})\n",
              "        if (message.buffers) {\n",
              "          for (const buffer of message.buffers) {\n",
              "            buffers.push(buffer);\n",
              "            downloaded += buffer.byteLength;\n",
              "            progress.value = downloaded;\n",
              "          }\n",
              "        }\n",
              "      }\n",
              "      const blob = new Blob(buffers, {type: 'application/binary'});\n",
              "      const a = document.createElement('a');\n",
              "      a.href = window.URL.createObjectURL(blob);\n",
              "      a.download = filename;\n",
              "      div.appendChild(a);\n",
              "      a.click();\n",
              "      div.remove();\n",
              "    }\n",
              "  "
            ],
            "text/plain": [
              "<IPython.core.display.Javascript object>"
            ]
          },
          "metadata": {
            "tags": []
          }
        },
        {
          "output_type": "display_data",
          "data": {
            "application/javascript": [
              "download(\"download_2d489236-1c03-471b-9e3b-3e4d536d3707\", \"data.csv\", 59300824)"
            ],
            "text/plain": [
              "<IPython.core.display.Javascript object>"
            ]
          },
          "metadata": {
            "tags": []
          }
        }
      ]
    },
    {
      "cell_type": "markdown",
      "metadata": {
        "id": "CP-KvMGDAspQ"
      },
      "source": [
        "**I have cleaned my data and exported as a csv file. From now, I will continue to analyze data with R in Rstudio. I think R is more practical than Python in terms of exploratory data analysis and regression analysis.**\n",
        "\n",
        "---\n",
        "\n",
        "---\n",
        "\n",
        "\n",
        "\n"
      ]
    }
  ]
}